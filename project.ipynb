{
 "cells": [
  {
   "cell_type": "code",
   "execution_count": 57,
   "id": "da1f4a37",
   "metadata": {
    "vscode": {
     "languageId": "r"
    }
   },
   "outputs": [],
   "source": [
    "library(limma)\n",
    "library(GEOquery)\n",
    "library(WGCNA)\n",
    "library(dplyr)\n",
    "library(readxl)\n",
    "library(ggplot2)\n",
    "library(dplyr)"
   ]
  },
  {
   "cell_type": "code",
   "execution_count": 58,
   "id": "94a4fb67",
   "metadata": {
    "vscode": {
     "languageId": "r"
    }
   },
   "outputs": [
    {
     "name": "stderr",
     "output_type": "stream",
     "text": [
      "Found 1 file(s)\n",
      "\n",
      "GSE106582_series_matrix.txt.gz\n",
      "\n",
      "Using locally cached version: C:\\Users\\sebas\\AppData\\Local\\Temp\\RtmpAF904b/GSE106582_series_matrix.txt.gz\n",
      "\n",
      "Using locally cached version of GPL10558 found here:\n",
      "C:\\Users\\sebas\\AppData\\Local\\Temp\\RtmpAF904b/GPL10558.soft.gz \n",
      "\n"
     ]
    }
   ],
   "source": [
    "gse <- getGEO(\"GSE106582\", GSEMatrix = TRUE)"
   ]
  },
  {
   "cell_type": "code",
   "execution_count": 59,
   "id": "2983e319",
   "metadata": {
    "vscode": {
     "languageId": "r"
    }
   },
   "outputs": [],
   "source": [
    "expr <- exprs(gse[[1]])\n",
    "pheno <- pData(gse[[1]])\n",
    "fdata <- fData(gse[[1]])"
   ]
  },
  {
   "cell_type": "code",
   "execution_count": 60,
   "id": "086b5b5d",
   "metadata": {
    "vscode": {
     "languageId": "r"
    }
   },
   "outputs": [],
   "source": [
    "write.csv(fdata, \"fdata.csv\", row.names = TRUE)"
   ]
  },
  {
   "cell_type": "code",
   "execution_count": 61,
   "id": "84b5aa50",
   "metadata": {
    "vscode": {
     "languageId": "r"
    }
   },
   "outputs": [
    {
     "data": {
      "text/html": [
       "<table class=\"dataframe\">\n",
       "<caption>A matrix: 6 × 194 of type dbl</caption>\n",
       "<thead>\n",
       "\t<tr><th></th><th scope=col>GSM2843099</th><th scope=col>GSM2843100</th><th scope=col>GSM2843101</th><th scope=col>GSM2843102</th><th scope=col>GSM2843103</th><th scope=col>GSM2843104</th><th scope=col>GSM2843105</th><th scope=col>GSM2843106</th><th scope=col>GSM2843107</th><th scope=col>GSM2843108</th><th scope=col>⋯</th><th scope=col>GSM2843283</th><th scope=col>GSM2843284</th><th scope=col>GSM2843285</th><th scope=col>GSM2843286</th><th scope=col>GSM2843287</th><th scope=col>GSM2843288</th><th scope=col>GSM2843289</th><th scope=col>GSM2843290</th><th scope=col>GSM2843291</th><th scope=col>GSM2843292</th></tr>\n",
       "</thead>\n",
       "<tbody>\n",
       "\t<tr><th scope=row>ILMN_1343291</th><td>14.246636</td><td>14.306430</td><td>14.348227</td><td>14.233364</td><td>14.037613</td><td>14.306430</td><td>14.209482</td><td>14.233364</td><td>14.137572</td><td>14.348227</td><td>⋯</td><td>14.075304</td><td>14.209482</td><td>14.262302</td><td>14.137572</td><td>14.185752</td><td>14.306430</td><td>14.193309</td><td>14.348227</td><td>14.280982</td><td>14.246636</td></tr>\n",
       "\t<tr><th scope=row>ILMN_1343295</th><td>12.738228</td><td>12.206211</td><td>12.700099</td><td>12.029697</td><td>11.334419</td><td>12.816596</td><td>12.552413</td><td>12.822330</td><td>11.944893</td><td>12.144393</td><td>⋯</td><td>11.679008</td><td>11.843007</td><td>12.866065</td><td>11.624542</td><td>11.237864</td><td>11.465310</td><td>11.443065</td><td>10.883836</td><td>11.750486</td><td>11.466828</td></tr>\n",
       "\t<tr><th scope=row>ILMN_1651199</th><td> 6.412016</td><td> 6.633564</td><td> 6.574890</td><td> 6.450712</td><td> 6.579476</td><td> 6.439554</td><td> 6.431542</td><td> 6.346484</td><td> 6.518873</td><td> 6.325833</td><td>⋯</td><td> 6.420452</td><td> 6.674008</td><td> 6.711727</td><td> 6.579345</td><td> 6.388410</td><td> 6.399378</td><td> 6.889240</td><td> 6.394718</td><td> 6.516751</td><td> 6.187478</td></tr>\n",
       "\t<tr><th scope=row>ILMN_1651209</th><td> 6.710966</td><td> 6.805210</td><td> 6.622005</td><td> 6.668240</td><td> 6.736337</td><td> 6.703673</td><td> 6.452449</td><td> 6.592954</td><td> 6.502550</td><td> 6.656889</td><td>⋯</td><td> 6.612033</td><td> 6.555067</td><td> 6.474639</td><td> 6.650995</td><td> 6.624086</td><td> 6.799771</td><td> 6.573304</td><td> 6.542434</td><td> 6.601863</td><td> 6.723900</td></tr>\n",
       "\t<tr><th scope=row>ILMN_1651210</th><td> 6.512163</td><td> 6.588000</td><td> 6.532367</td><td> 6.576099</td><td> 6.343878</td><td> 6.589865</td><td> 6.501190</td><td> 6.571158</td><td> 6.659456</td><td> 6.476374</td><td>⋯</td><td> 6.470704</td><td> 6.419202</td><td> 6.517013</td><td> 6.552662</td><td> 6.433940</td><td> 6.433472</td><td> 6.387217</td><td> 6.443103</td><td> 6.389635</td><td> 6.528619</td></tr>\n",
       "\t<tr><th scope=row>ILMN_1651221</th><td> 6.594800</td><td> 6.556280</td><td> 6.739953</td><td> 6.621620</td><td> 6.474938</td><td> 6.607903</td><td> 6.558625</td><td> 6.456971</td><td> 6.564148</td><td> 6.600523</td><td>⋯</td><td> 6.696744</td><td> 6.628282</td><td> 6.537876</td><td> 6.755657</td><td> 6.498592</td><td> 6.568854</td><td> 6.553839</td><td> 6.688859</td><td> 6.424253</td><td> 6.568933</td></tr>\n",
       "</tbody>\n",
       "</table>\n"
      ],
      "text/latex": [
       "A matrix: 6 × 194 of type dbl\n",
       "\\begin{tabular}{r|lllllllllllllllllllll}\n",
       "  & GSM2843099 & GSM2843100 & GSM2843101 & GSM2843102 & GSM2843103 & GSM2843104 & GSM2843105 & GSM2843106 & GSM2843107 & GSM2843108 & ⋯ & GSM2843283 & GSM2843284 & GSM2843285 & GSM2843286 & GSM2843287 & GSM2843288 & GSM2843289 & GSM2843290 & GSM2843291 & GSM2843292\\\\\n",
       "\\hline\n",
       "\tILMN\\_1343291 & 14.246636 & 14.306430 & 14.348227 & 14.233364 & 14.037613 & 14.306430 & 14.209482 & 14.233364 & 14.137572 & 14.348227 & ⋯ & 14.075304 & 14.209482 & 14.262302 & 14.137572 & 14.185752 & 14.306430 & 14.193309 & 14.348227 & 14.280982 & 14.246636\\\\\n",
       "\tILMN\\_1343295 & 12.738228 & 12.206211 & 12.700099 & 12.029697 & 11.334419 & 12.816596 & 12.552413 & 12.822330 & 11.944893 & 12.144393 & ⋯ & 11.679008 & 11.843007 & 12.866065 & 11.624542 & 11.237864 & 11.465310 & 11.443065 & 10.883836 & 11.750486 & 11.466828\\\\\n",
       "\tILMN\\_1651199 &  6.412016 &  6.633564 &  6.574890 &  6.450712 &  6.579476 &  6.439554 &  6.431542 &  6.346484 &  6.518873 &  6.325833 & ⋯ &  6.420452 &  6.674008 &  6.711727 &  6.579345 &  6.388410 &  6.399378 &  6.889240 &  6.394718 &  6.516751 &  6.187478\\\\\n",
       "\tILMN\\_1651209 &  6.710966 &  6.805210 &  6.622005 &  6.668240 &  6.736337 &  6.703673 &  6.452449 &  6.592954 &  6.502550 &  6.656889 & ⋯ &  6.612033 &  6.555067 &  6.474639 &  6.650995 &  6.624086 &  6.799771 &  6.573304 &  6.542434 &  6.601863 &  6.723900\\\\\n",
       "\tILMN\\_1651210 &  6.512163 &  6.588000 &  6.532367 &  6.576099 &  6.343878 &  6.589865 &  6.501190 &  6.571158 &  6.659456 &  6.476374 & ⋯ &  6.470704 &  6.419202 &  6.517013 &  6.552662 &  6.433940 &  6.433472 &  6.387217 &  6.443103 &  6.389635 &  6.528619\\\\\n",
       "\tILMN\\_1651221 &  6.594800 &  6.556280 &  6.739953 &  6.621620 &  6.474938 &  6.607903 &  6.558625 &  6.456971 &  6.564148 &  6.600523 & ⋯ &  6.696744 &  6.628282 &  6.537876 &  6.755657 &  6.498592 &  6.568854 &  6.553839 &  6.688859 &  6.424253 &  6.568933\\\\\n",
       "\\end{tabular}\n"
      ],
      "text/markdown": [
       "\n",
       "A matrix: 6 × 194 of type dbl\n",
       "\n",
       "| <!--/--> | GSM2843099 | GSM2843100 | GSM2843101 | GSM2843102 | GSM2843103 | GSM2843104 | GSM2843105 | GSM2843106 | GSM2843107 | GSM2843108 | ⋯ | GSM2843283 | GSM2843284 | GSM2843285 | GSM2843286 | GSM2843287 | GSM2843288 | GSM2843289 | GSM2843290 | GSM2843291 | GSM2843292 |\n",
       "|---|---|---|---|---|---|---|---|---|---|---|---|---|---|---|---|---|---|---|---|---|---|\n",
       "| ILMN_1343291 | 14.246636 | 14.306430 | 14.348227 | 14.233364 | 14.037613 | 14.306430 | 14.209482 | 14.233364 | 14.137572 | 14.348227 | ⋯ | 14.075304 | 14.209482 | 14.262302 | 14.137572 | 14.185752 | 14.306430 | 14.193309 | 14.348227 | 14.280982 | 14.246636 |\n",
       "| ILMN_1343295 | 12.738228 | 12.206211 | 12.700099 | 12.029697 | 11.334419 | 12.816596 | 12.552413 | 12.822330 | 11.944893 | 12.144393 | ⋯ | 11.679008 | 11.843007 | 12.866065 | 11.624542 | 11.237864 | 11.465310 | 11.443065 | 10.883836 | 11.750486 | 11.466828 |\n",
       "| ILMN_1651199 |  6.412016 |  6.633564 |  6.574890 |  6.450712 |  6.579476 |  6.439554 |  6.431542 |  6.346484 |  6.518873 |  6.325833 | ⋯ |  6.420452 |  6.674008 |  6.711727 |  6.579345 |  6.388410 |  6.399378 |  6.889240 |  6.394718 |  6.516751 |  6.187478 |\n",
       "| ILMN_1651209 |  6.710966 |  6.805210 |  6.622005 |  6.668240 |  6.736337 |  6.703673 |  6.452449 |  6.592954 |  6.502550 |  6.656889 | ⋯ |  6.612033 |  6.555067 |  6.474639 |  6.650995 |  6.624086 |  6.799771 |  6.573304 |  6.542434 |  6.601863 |  6.723900 |\n",
       "| ILMN_1651210 |  6.512163 |  6.588000 |  6.532367 |  6.576099 |  6.343878 |  6.589865 |  6.501190 |  6.571158 |  6.659456 |  6.476374 | ⋯ |  6.470704 |  6.419202 |  6.517013 |  6.552662 |  6.433940 |  6.433472 |  6.387217 |  6.443103 |  6.389635 |  6.528619 |\n",
       "| ILMN_1651221 |  6.594800 |  6.556280 |  6.739953 |  6.621620 |  6.474938 |  6.607903 |  6.558625 |  6.456971 |  6.564148 |  6.600523 | ⋯ |  6.696744 |  6.628282 |  6.537876 |  6.755657 |  6.498592 |  6.568854 |  6.553839 |  6.688859 |  6.424253 |  6.568933 |\n",
       "\n"
      ],
      "text/plain": [
       "             GSM2843099 GSM2843100 GSM2843101 GSM2843102 GSM2843103 GSM2843104\n",
       "ILMN_1343291 14.246636  14.306430  14.348227  14.233364  14.037613  14.306430 \n",
       "ILMN_1343295 12.738228  12.206211  12.700099  12.029697  11.334419  12.816596 \n",
       "ILMN_1651199  6.412016   6.633564   6.574890   6.450712   6.579476   6.439554 \n",
       "ILMN_1651209  6.710966   6.805210   6.622005   6.668240   6.736337   6.703673 \n",
       "ILMN_1651210  6.512163   6.588000   6.532367   6.576099   6.343878   6.589865 \n",
       "ILMN_1651221  6.594800   6.556280   6.739953   6.621620   6.474938   6.607903 \n",
       "             GSM2843105 GSM2843106 GSM2843107 GSM2843108 ⋯ GSM2843283\n",
       "ILMN_1343291 14.209482  14.233364  14.137572  14.348227  ⋯ 14.075304 \n",
       "ILMN_1343295 12.552413  12.822330  11.944893  12.144393  ⋯ 11.679008 \n",
       "ILMN_1651199  6.431542   6.346484   6.518873   6.325833  ⋯  6.420452 \n",
       "ILMN_1651209  6.452449   6.592954   6.502550   6.656889  ⋯  6.612033 \n",
       "ILMN_1651210  6.501190   6.571158   6.659456   6.476374  ⋯  6.470704 \n",
       "ILMN_1651221  6.558625   6.456971   6.564148   6.600523  ⋯  6.696744 \n",
       "             GSM2843284 GSM2843285 GSM2843286 GSM2843287 GSM2843288 GSM2843289\n",
       "ILMN_1343291 14.209482  14.262302  14.137572  14.185752  14.306430  14.193309 \n",
       "ILMN_1343295 11.843007  12.866065  11.624542  11.237864  11.465310  11.443065 \n",
       "ILMN_1651199  6.674008   6.711727   6.579345   6.388410   6.399378   6.889240 \n",
       "ILMN_1651209  6.555067   6.474639   6.650995   6.624086   6.799771   6.573304 \n",
       "ILMN_1651210  6.419202   6.517013   6.552662   6.433940   6.433472   6.387217 \n",
       "ILMN_1651221  6.628282   6.537876   6.755657   6.498592   6.568854   6.553839 \n",
       "             GSM2843290 GSM2843291 GSM2843292\n",
       "ILMN_1343291 14.348227  14.280982  14.246636 \n",
       "ILMN_1343295 10.883836  11.750486  11.466828 \n",
       "ILMN_1651199  6.394718   6.516751   6.187478 \n",
       "ILMN_1651209  6.542434   6.601863   6.723900 \n",
       "ILMN_1651210  6.443103   6.389635   6.528619 \n",
       "ILMN_1651221  6.688859   6.424253   6.568933 "
      ]
     },
     "metadata": {},
     "output_type": "display_data"
    }
   ],
   "source": [
    "head(expr)"
   ]
  },
  {
   "cell_type": "code",
   "execution_count": 62,
   "id": "d2bf8c3a",
   "metadata": {
    "vscode": {
     "languageId": "r"
    }
   },
   "outputs": [
    {
     "data": {
      "text/html": [
       "<table class=\"dataframe\">\n",
       "<caption>A data.frame: 2 × 36</caption>\n",
       "<thead>\n",
       "\t<tr><th></th><th scope=col>title</th><th scope=col>geo_accession</th><th scope=col>status</th><th scope=col>submission_date</th><th scope=col>last_update_date</th><th scope=col>type</th><th scope=col>channel_count</th><th scope=col>source_name_ch1</th><th scope=col>organism_ch1</th><th scope=col>characteristics_ch1</th><th scope=col>⋯</th><th scope=col>contact_city</th><th scope=col>contact_zip/postal_code</th><th scope=col>contact_country</th><th scope=col>supplementary_file</th><th scope=col>data_row_count</th><th scope=col>age:ch1</th><th scope=col>disease state:ch1</th><th scope=col>gender:ch1</th><th scope=col>patientid:ch1</th><th scope=col>tissue:ch1</th></tr>\n",
       "\t<tr><th></th><th scope=col>&lt;chr&gt;</th><th scope=col>&lt;chr&gt;</th><th scope=col>&lt;chr&gt;</th><th scope=col>&lt;chr&gt;</th><th scope=col>&lt;chr&gt;</th><th scope=col>&lt;chr&gt;</th><th scope=col>&lt;chr&gt;</th><th scope=col>&lt;chr&gt;</th><th scope=col>&lt;chr&gt;</th><th scope=col>&lt;chr&gt;</th><th scope=col>⋯</th><th scope=col>&lt;chr&gt;</th><th scope=col>&lt;chr&gt;</th><th scope=col>&lt;chr&gt;</th><th scope=col>&lt;chr&gt;</th><th scope=col>&lt;chr&gt;</th><th scope=col>&lt;chr&gt;</th><th scope=col>&lt;chr&gt;</th><th scope=col>&lt;chr&gt;</th><th scope=col>&lt;chr&gt;</th><th scope=col>&lt;chr&gt;</th></tr>\n",
       "</thead>\n",
       "<tbody>\n",
       "\t<tr><th scope=row>GSM2843099</th><td>400072_A</td><td>GSM2843099</td><td>Public on Dec 01 2018</td><td>Nov 06 2017</td><td>Dec 01 2018</td><td>RNA</td><td>1</td><td>Patient 400072; Tissue tumor </td><td>Homo sapiens</td><td>patientid: 400072</td><td>⋯</td><td>Freiburg</td><td>79110</td><td>Germany</td><td>NONE</td><td>47290</td><td>76</td><td>Colorectal cancer patient</td><td>M</td><td>400072</td><td>tumor </td></tr>\n",
       "\t<tr><th scope=row>GSM2843100</th><td>400072_C</td><td>GSM2843100</td><td>Public on Dec 01 2018</td><td>Nov 06 2017</td><td>Dec 01 2018</td><td>RNA</td><td>1</td><td>Patient 400072; Tissue mucosa</td><td>Homo sapiens</td><td>patientid: 400072</td><td>⋯</td><td>Freiburg</td><td>79110</td><td>Germany</td><td>NONE</td><td>47290</td><td>76</td><td>Colorectal cancer patient</td><td>M</td><td>400072</td><td>mucosa</td></tr>\n",
       "</tbody>\n",
       "</table>\n"
      ],
      "text/latex": [
       "A data.frame: 2 × 36\n",
       "\\begin{tabular}{r|lllllllllllllllllllll}\n",
       "  & title & geo\\_accession & status & submission\\_date & last\\_update\\_date & type & channel\\_count & source\\_name\\_ch1 & organism\\_ch1 & characteristics\\_ch1 & ⋯ & contact\\_city & contact\\_zip/postal\\_code & contact\\_country & supplementary\\_file & data\\_row\\_count & age:ch1 & disease state:ch1 & gender:ch1 & patientid:ch1 & tissue:ch1\\\\\n",
       "  & <chr> & <chr> & <chr> & <chr> & <chr> & <chr> & <chr> & <chr> & <chr> & <chr> & ⋯ & <chr> & <chr> & <chr> & <chr> & <chr> & <chr> & <chr> & <chr> & <chr> & <chr>\\\\\n",
       "\\hline\n",
       "\tGSM2843099 & 400072\\_A & GSM2843099 & Public on Dec 01 2018 & Nov 06 2017 & Dec 01 2018 & RNA & 1 & Patient 400072; Tissue tumor  & Homo sapiens & patientid: 400072 & ⋯ & Freiburg & 79110 & Germany & NONE & 47290 & 76 & Colorectal cancer patient & M & 400072 & tumor \\\\\n",
       "\tGSM2843100 & 400072\\_C & GSM2843100 & Public on Dec 01 2018 & Nov 06 2017 & Dec 01 2018 & RNA & 1 & Patient 400072; Tissue mucosa & Homo sapiens & patientid: 400072 & ⋯ & Freiburg & 79110 & Germany & NONE & 47290 & 76 & Colorectal cancer patient & M & 400072 & mucosa\\\\\n",
       "\\end{tabular}\n"
      ],
      "text/markdown": [
       "\n",
       "A data.frame: 2 × 36\n",
       "\n",
       "| <!--/--> | title &lt;chr&gt; | geo_accession &lt;chr&gt; | status &lt;chr&gt; | submission_date &lt;chr&gt; | last_update_date &lt;chr&gt; | type &lt;chr&gt; | channel_count &lt;chr&gt; | source_name_ch1 &lt;chr&gt; | organism_ch1 &lt;chr&gt; | characteristics_ch1 &lt;chr&gt; | ⋯ ⋯ | contact_city &lt;chr&gt; | contact_zip/postal_code &lt;chr&gt; | contact_country &lt;chr&gt; | supplementary_file &lt;chr&gt; | data_row_count &lt;chr&gt; | age:ch1 &lt;chr&gt; | disease state:ch1 &lt;chr&gt; | gender:ch1 &lt;chr&gt; | patientid:ch1 &lt;chr&gt; | tissue:ch1 &lt;chr&gt; |\n",
       "|---|---|---|---|---|---|---|---|---|---|---|---|---|---|---|---|---|---|---|---|---|---|\n",
       "| GSM2843099 | 400072_A | GSM2843099 | Public on Dec 01 2018 | Nov 06 2017 | Dec 01 2018 | RNA | 1 | Patient 400072; Tissue tumor  | Homo sapiens | patientid: 400072 | ⋯ | Freiburg | 79110 | Germany | NONE | 47290 | 76 | Colorectal cancer patient | M | 400072 | tumor  |\n",
       "| GSM2843100 | 400072_C | GSM2843100 | Public on Dec 01 2018 | Nov 06 2017 | Dec 01 2018 | RNA | 1 | Patient 400072; Tissue mucosa | Homo sapiens | patientid: 400072 | ⋯ | Freiburg | 79110 | Germany | NONE | 47290 | 76 | Colorectal cancer patient | M | 400072 | mucosa |\n",
       "\n"
      ],
      "text/plain": [
       "           title    geo_accession status                submission_date\n",
       "GSM2843099 400072_A GSM2843099    Public on Dec 01 2018 Nov 06 2017    \n",
       "GSM2843100 400072_C GSM2843100    Public on Dec 01 2018 Nov 06 2017    \n",
       "           last_update_date type channel_count source_name_ch1              \n",
       "GSM2843099 Dec 01 2018      RNA  1             Patient 400072; Tissue tumor \n",
       "GSM2843100 Dec 01 2018      RNA  1             Patient 400072; Tissue mucosa\n",
       "           organism_ch1 characteristics_ch1 ⋯ contact_city\n",
       "GSM2843099 Homo sapiens patientid: 400072   ⋯ Freiburg    \n",
       "GSM2843100 Homo sapiens patientid: 400072   ⋯ Freiburg    \n",
       "           contact_zip/postal_code contact_country supplementary_file\n",
       "GSM2843099 79110                   Germany         NONE              \n",
       "GSM2843100 79110                   Germany         NONE              \n",
       "           data_row_count age:ch1 disease state:ch1         gender:ch1\n",
       "GSM2843099 47290          76      Colorectal cancer patient M         \n",
       "GSM2843100 47290          76      Colorectal cancer patient M         \n",
       "           patientid:ch1 tissue:ch1\n",
       "GSM2843099 400072        tumor     \n",
       "GSM2843100 400072        mucosa    "
      ]
     },
     "metadata": {},
     "output_type": "display_data"
    }
   ],
   "source": [
    "head(pheno,2)"
   ]
  },
  {
   "cell_type": "code",
   "execution_count": 63,
   "id": "2851d4bf",
   "metadata": {
    "vscode": {
     "languageId": "r"
    }
   },
   "outputs": [],
   "source": [
    "write.csv(pheno, \"metadata.csv\")"
   ]
  },
  {
   "cell_type": "code",
   "execution_count": 64,
   "id": "e6c9e536",
   "metadata": {
    "vscode": {
     "languageId": "r"
    }
   },
   "outputs": [],
   "source": [
    "#head(fdata, 1)"
   ]
  },
  {
   "cell_type": "code",
   "execution_count": 65,
   "id": "c187e77f",
   "metadata": {
    "vscode": {
     "languageId": "r"
    }
   },
   "outputs": [
    {
     "data": {
      "text/html": [
       "<style>\n",
       ".list-inline {list-style: none; margin:0; padding: 0}\n",
       ".list-inline>li {display: inline-block}\n",
       ".list-inline>li:not(:last-child)::after {content: \"\\00b7\"; padding: 0 .5ex}\n",
       "</style>\n",
       "<ol class=list-inline><li>'ID'</li><li>'Species'</li><li>'Source'</li><li>'Search_Key'</li><li>'Transcript'</li><li>'ILMN_Gene'</li><li>'Source_Reference_ID'</li><li>'RefSeq_ID'</li><li>'Unigene_ID'</li><li>'Entrez_Gene_ID'</li><li>'GI'</li><li>'Accession'</li><li>'Symbol'</li><li>'Protein_Product'</li><li>'Probe_Id'</li><li>'Array_Address_Id'</li><li>'Probe_Type'</li><li>'Probe_Start'</li><li>'SEQUENCE'</li><li>'Chromosome'</li><li>'Probe_Chr_Orientation'</li><li>'Probe_Coordinates'</li><li>'Cytoband'</li><li>'Definition'</li><li>'Ontology_Component'</li><li>'Ontology_Process'</li><li>'Ontology_Function'</li><li>'Synonyms'</li><li>'Obsolete_Probe_Id'</li><li>'GB_ACC'</li></ol>\n"
      ],
      "text/latex": [
       "\\begin{enumerate*}\n",
       "\\item 'ID'\n",
       "\\item 'Species'\n",
       "\\item 'Source'\n",
       "\\item 'Search\\_Key'\n",
       "\\item 'Transcript'\n",
       "\\item 'ILMN\\_Gene'\n",
       "\\item 'Source\\_Reference\\_ID'\n",
       "\\item 'RefSeq\\_ID'\n",
       "\\item 'Unigene\\_ID'\n",
       "\\item 'Entrez\\_Gene\\_ID'\n",
       "\\item 'GI'\n",
       "\\item 'Accession'\n",
       "\\item 'Symbol'\n",
       "\\item 'Protein\\_Product'\n",
       "\\item 'Probe\\_Id'\n",
       "\\item 'Array\\_Address\\_Id'\n",
       "\\item 'Probe\\_Type'\n",
       "\\item 'Probe\\_Start'\n",
       "\\item 'SEQUENCE'\n",
       "\\item 'Chromosome'\n",
       "\\item 'Probe\\_Chr\\_Orientation'\n",
       "\\item 'Probe\\_Coordinates'\n",
       "\\item 'Cytoband'\n",
       "\\item 'Definition'\n",
       "\\item 'Ontology\\_Component'\n",
       "\\item 'Ontology\\_Process'\n",
       "\\item 'Ontology\\_Function'\n",
       "\\item 'Synonyms'\n",
       "\\item 'Obsolete\\_Probe\\_Id'\n",
       "\\item 'GB\\_ACC'\n",
       "\\end{enumerate*}\n"
      ],
      "text/markdown": [
       "1. 'ID'\n",
       "2. 'Species'\n",
       "3. 'Source'\n",
       "4. 'Search_Key'\n",
       "5. 'Transcript'\n",
       "6. 'ILMN_Gene'\n",
       "7. 'Source_Reference_ID'\n",
       "8. 'RefSeq_ID'\n",
       "9. 'Unigene_ID'\n",
       "10. 'Entrez_Gene_ID'\n",
       "11. 'GI'\n",
       "12. 'Accession'\n",
       "13. 'Symbol'\n",
       "14. 'Protein_Product'\n",
       "15. 'Probe_Id'\n",
       "16. 'Array_Address_Id'\n",
       "17. 'Probe_Type'\n",
       "18. 'Probe_Start'\n",
       "19. 'SEQUENCE'\n",
       "20. 'Chromosome'\n",
       "21. 'Probe_Chr_Orientation'\n",
       "22. 'Probe_Coordinates'\n",
       "23. 'Cytoband'\n",
       "24. 'Definition'\n",
       "25. 'Ontology_Component'\n",
       "26. 'Ontology_Process'\n",
       "27. 'Ontology_Function'\n",
       "28. 'Synonyms'\n",
       "29. 'Obsolete_Probe_Id'\n",
       "30. 'GB_ACC'\n",
       "\n",
       "\n"
      ],
      "text/plain": [
       " [1] \"ID\"                    \"Species\"               \"Source\"               \n",
       " [4] \"Search_Key\"            \"Transcript\"            \"ILMN_Gene\"            \n",
       " [7] \"Source_Reference_ID\"   \"RefSeq_ID\"             \"Unigene_ID\"           \n",
       "[10] \"Entrez_Gene_ID\"        \"GI\"                    \"Accession\"            \n",
       "[13] \"Symbol\"                \"Protein_Product\"       \"Probe_Id\"             \n",
       "[16] \"Array_Address_Id\"      \"Probe_Type\"            \"Probe_Start\"          \n",
       "[19] \"SEQUENCE\"              \"Chromosome\"            \"Probe_Chr_Orientation\"\n",
       "[22] \"Probe_Coordinates\"     \"Cytoband\"              \"Definition\"           \n",
       "[25] \"Ontology_Component\"    \"Ontology_Process\"      \"Ontology_Function\"    \n",
       "[28] \"Synonyms\"              \"Obsolete_Probe_Id\"     \"GB_ACC\"               "
      ]
     },
     "metadata": {},
     "output_type": "display_data"
    }
   ],
   "source": [
    "colnames(fdata)"
   ]
  },
  {
   "cell_type": "code",
   "execution_count": 66,
   "id": "e15dcdbf",
   "metadata": {
    "vscode": {
     "languageId": "r"
    }
   },
   "outputs": [
    {
     "data": {
      "text/html": [
       "<table class=\"dataframe\">\n",
       "<caption>A data.frame: 6 × 2</caption>\n",
       "<thead>\n",
       "\t<tr><th></th><th scope=col>ProbeID</th><th scope=col>GeneSymbol</th></tr>\n",
       "\t<tr><th></th><th scope=col>&lt;chr&gt;</th><th scope=col>&lt;chr&gt;</th></tr>\n",
       "</thead>\n",
       "<tbody>\n",
       "\t<tr><th scope=row>ILMN_1343291</th><td>ILMN_1343291</td><td>EEF1A1   </td></tr>\n",
       "\t<tr><th scope=row>ILMN_1343295</th><td>ILMN_1343295</td><td>GAPDH    </td></tr>\n",
       "\t<tr><th scope=row>ILMN_1651199</th><td>ILMN_1651199</td><td>LOC643334</td></tr>\n",
       "\t<tr><th scope=row>ILMN_1651209</th><td>ILMN_1651209</td><td>SLC35E2  </td></tr>\n",
       "\t<tr><th scope=row>ILMN_1651210</th><td>ILMN_1651210</td><td>DUSP22   </td></tr>\n",
       "\t<tr><th scope=row>ILMN_1651221</th><td>ILMN_1651221</td><td>LOC642820</td></tr>\n",
       "</tbody>\n",
       "</table>\n"
      ],
      "text/latex": [
       "A data.frame: 6 × 2\n",
       "\\begin{tabular}{r|ll}\n",
       "  & ProbeID & GeneSymbol\\\\\n",
       "  & <chr> & <chr>\\\\\n",
       "\\hline\n",
       "\tILMN\\_1343291 & ILMN\\_1343291 & EEF1A1   \\\\\n",
       "\tILMN\\_1343295 & ILMN\\_1343295 & GAPDH    \\\\\n",
       "\tILMN\\_1651199 & ILMN\\_1651199 & LOC643334\\\\\n",
       "\tILMN\\_1651209 & ILMN\\_1651209 & SLC35E2  \\\\\n",
       "\tILMN\\_1651210 & ILMN\\_1651210 & DUSP22   \\\\\n",
       "\tILMN\\_1651221 & ILMN\\_1651221 & LOC642820\\\\\n",
       "\\end{tabular}\n"
      ],
      "text/markdown": [
       "\n",
       "A data.frame: 6 × 2\n",
       "\n",
       "| <!--/--> | ProbeID &lt;chr&gt; | GeneSymbol &lt;chr&gt; |\n",
       "|---|---|---|\n",
       "| ILMN_1343291 | ILMN_1343291 | EEF1A1    |\n",
       "| ILMN_1343295 | ILMN_1343295 | GAPDH     |\n",
       "| ILMN_1651199 | ILMN_1651199 | LOC643334 |\n",
       "| ILMN_1651209 | ILMN_1651209 | SLC35E2   |\n",
       "| ILMN_1651210 | ILMN_1651210 | DUSP22    |\n",
       "| ILMN_1651221 | ILMN_1651221 | LOC642820 |\n",
       "\n"
      ],
      "text/plain": [
       "             ProbeID      GeneSymbol\n",
       "ILMN_1343291 ILMN_1343291 EEF1A1    \n",
       "ILMN_1343295 ILMN_1343295 GAPDH     \n",
       "ILMN_1651199 ILMN_1651199 LOC643334 \n",
       "ILMN_1651209 ILMN_1651209 SLC35E2   \n",
       "ILMN_1651210 ILMN_1651210 DUSP22    \n",
       "ILMN_1651221 ILMN_1651221 LOC642820 "
      ]
     },
     "metadata": {},
     "output_type": "display_data"
    }
   ],
   "source": [
    "probe2gene_map <- fdata[, c(\"ID\", \"Symbol\")]\n",
    "colnames(probe2gene_map) <- c(\"ProbeID\", \"GeneSymbol\")\n",
    "\n",
    "# Remove any rows where the GeneSymbol is missing (NA) or empty\n",
    "probe2gene_map <- probe2gene_map[!is.na(probe2gene_map$GeneSymbol) & probe2gene_map$GeneSymbol != \"\", ]\n",
    "head(probe2gene_map)"
   ]
  },
  {
   "cell_type": "code",
   "execution_count": 67,
   "id": "0d8c9bfc",
   "metadata": {
    "vscode": {
     "languageId": "r"
    }
   },
   "outputs": [
    {
     "data": {
      "text/plain": [
       "\n",
       "mucosa  tumor \n",
       "   117     77 "
      ]
     },
     "metadata": {},
     "output_type": "display_data"
    }
   ],
   "source": [
    "table(pheno$'tissue:ch1')"
   ]
  },
  {
   "cell_type": "code",
   "execution_count": 68,
   "id": "13faf3b4",
   "metadata": {
    "vscode": {
     "languageId": "r"
    }
   },
   "outputs": [],
   "source": [
    "group <- factor(pheno$'tissue:ch1')"
   ]
  },
  {
   "cell_type": "code",
   "execution_count": 69,
   "id": "85c86368",
   "metadata": {
    "vscode": {
     "languageId": "r"
    }
   },
   "outputs": [],
   "source": [
    "expr_probe <- expr"
   ]
  },
  {
   "cell_type": "code",
   "execution_count": 70,
   "id": "419cca91",
   "metadata": {
    "vscode": {
     "languageId": "r"
    }
   },
   "outputs": [],
   "source": [
    "make_deg_probe <- function(expr_probe, group, fdata = NULL) {\n",
    "  # 0) Harmonize inputs\n",
    "  stopifnot(ncol(expr_probe) == length(group))\n",
    "  rn_ok <- !is.null(rownames(expr_probe))\n",
    "  if (!rn_ok) stop(\"expr_probe must have rownames = ProbeIDs\")\n",
    "\n",
    "  # normalize group values; set order mucosa -> tumor\n",
    "  grp <- tolower(as.character(group))\n",
    "  grp <- ifelse(grepl(\"mucosa|normal|adjacent\", grp), \"mucosa\",\n",
    "         ifelse(grepl(\"tumou?r|neoplas|cancer|lesion\", grp), \"tumor\", grp))\n",
    "  grp <- factor(grp, levels = c(\"mucosa\",\"tumor\"))\n",
    "  if (any(is.na(grp))) stop(\"Some group entries are neither mucosa nor tumor after normalization.\")\n",
    "\n",
    "  # 1) limma fit (Tumor - Mucosa)\n",
    "  design <- model.matrix(~ 0 + grp)\n",
    "  colnames(design) <- levels(grp)  # \"mucosa\",\"tumor\"\n",
    "  fit  <- lmFit(expr_probe, design)\n",
    "  cont <- makeContrasts(TumorVsMucosa = tumor - mucosa, levels = design)\n",
    "  fit2 <- eBayes(contrasts.fit(fit, cont))\n",
    "\n",
    "  # 2) All-probe table (BH/FDR)\n",
    "  tb <- topTable(fit2, coef = \"TumorVsMucosa\", number = Inf, adjust.method = \"BH\")\n",
    "  tb$ProbeID <- rownames(tb)\n",
    "\n",
    "  # 3) Add Symbol if fdata provided; else blank\n",
    "  if (!is.null(fdata)) {\n",
    "    sym_col <- intersect(colnames(fdata), c(\"Gene Symbol\",\"Symbol\",\"SYMBOL\",\"GeneSymbol\",\"ILMN_Gene\"))\n",
    "    if (length(sym_col)) {\n",
    "      sym_col <- sym_col[1]\n",
    "      syms <- as.character(fdata[tb$ProbeID, sym_col])\n",
    "      syms[is.na(syms)] <- \"\"\n",
    "      # If multiple symbols like \"A /// B\", keep first\n",
    "      syms <- sub(\"\\\\s*///.*$\", \"\", syms)\n",
    "      tb$Symbol <- syms\n",
    "    } else {\n",
    "      tb$Symbol <- \"\"\n",
    "    }\n",
    "  } else {\n",
    "    tb$Symbol <- \"\"\n",
    "  }\n",
    "\n",
    "  # 4) Keep only required columns + useful extras\n",
    "  # (logFC, AveExpr, t, P.Value, adj.P.Val, B come from limma)\n",
    "  # Ensure standard names exist\n",
    "  req <- c(\"ProbeID\",\"Symbol\",\"logFC\",\"P.Value\",\"adj.P.Val\")\n",
    "  # return full table but guaranteed these exist:\n",
    "  tb <- tb[, unique(c(colnames(tb), req))]\n",
    "\n",
    "  # (Optional) sanity: numeric types\n",
    "  tb$logFC     <- as.numeric(tb$logFC)\n",
    "  tb$P.Value   <- as.numeric(tb$P.Value)\n",
    "  tb$adj.P.Val <- as.numeric(tb$adj.P.Val)\n",
    "\n",
    "  tb\n",
    "}"
   ]
  },
  {
   "cell_type": "code",
   "execution_count": 71,
   "id": "fe0a83e4",
   "metadata": {
    "vscode": {
     "languageId": "r"
    }
   },
   "outputs": [],
   "source": [
    "deg_probe <- make_deg_probe(expr_probe, group, fdata)"
   ]
  },
  {
   "cell_type": "code",
   "execution_count": 72,
   "id": "5f411421",
   "metadata": {
    "vscode": {
     "languageId": "r"
    }
   },
   "outputs": [],
   "source": [
    "## ----------------------------\n",
    "## Assumptions:\n",
    "## - deg_probe has columns: ProbeID (or rownames), Symbol, logFC, P.Value, adj.P.Val\n",
    "## - expr_probe has rownames = ProbeIDs\n",
    "## ----------------------------\n",
    "\n",
    "## Helper: ensure numeric (in case something is char from merges/reads)\n",
    "to_num <- function(x) suppressWarnings(as.numeric(x))\n",
    "\n",
    "## If ProbeID is missing as a column, create it from rownames\n",
    "if (!\"ProbeID\" %in% names(deg_probe)) {\n",
    "  deg_probe$ProbeID <- rownames(deg_probe)\n",
    "}\n",
    "\n",
    "## (Optional) normalize Symbol field (handle \"A /// B\" -> \"A\")\n",
    "if (\"Symbol\" %in% names(deg_probe)) {\n",
    "  deg_probe$Symbol <- as.character(deg_probe$Symbol)\n",
    "  deg_probe$Symbol[is.na(deg_probe$Symbol)] <- \"\"\n",
    "  deg_probe$Symbol <- sub(\"\\\\s*///.*$\", \"\", deg_probe$Symbol)  # keep first symbol\n",
    "} else {\n",
    "  deg_probe$Symbol <- \"\"\n",
    "}\n",
    "\n",
    "## Make sure numeric columns are numeric\n",
    "deg_probe$logFC     <- to_num(deg_probe$logFC)\n",
    "deg_probe$P.Value   <- to_num(deg_probe$P.Value)\n",
    "deg_probe$adj.P.Val <- to_num(deg_probe$adj.P.Val)\n",
    "\n",
    "## ----------------------------\n",
    "## 1) Filter by significance\n",
    "## ----------------------------\n",
    "deg_probe_filt <- subset(deg_probe, !is.na(adj.P.Val) & !is.na(logFC) &\n",
    "                                     adj.P.Val < 0.05 & abs(logFC) >= 0.5)\n",
    "\n",
    "## Split annotated vs unannotated\n",
    "is_annot   <- deg_probe_filt$Symbol != \"\"\n",
    "deg_annot  <- deg_probe_filt[is_annot, ]\n",
    "deg_unann  <- deg_probe_filt[!is_annot, ]\n",
    "\n",
    "## ----------------------------\n",
    "## 2) DEDUPLICATION (choose ONE of the two blocks)\n",
    "## ----------------------------\n",
    "\n",
    "## A) Keep the probe with the LOWEST adj.P.Val per Symbol (tie-breaker: lower P.Value, then larger |logFC|)\n",
    "keep_bestFDR <- function(df) {\n",
    "  o <- order(df$adj.P.Val,\n",
    "             -abs(df$logFC),\n",
    "             df$P.Value,\n",
    "             df$ProbeID,\n",
    "             na.last = TRUE)\n",
    "  df_sorted <- df[o, , drop = FALSE]\n",
    "  df_sorted[!duplicated(df_sorted$Symbol), , drop = FALSE]\n",
    "}\n",
    "\n",
    "## B) Keep the probe with the LARGEST |logFC| per Symbol (tie-breaker: lower adj.P.Val, then lower P.Value)\n",
    "keep_largestAbsFC <- function(df) {\n",
    "  o <- order(-abs(df$logFC), df$adj.P.Val, df$P.Value, df$ProbeID)\n",
    "  df_sorted <- df[o, ]\n",
    "  df_sorted[!duplicated(df_sorted$Symbol), ]\n",
    "}\n",
    "\n",
    "## >>> PICK YOUR CRITERION HERE <<<\n",
    "## For your current need (largest |logFC|):\n",
    " deg_annot_unique <- keep_largestAbsFC(deg_annot)\n",
    "## If instead you want lowest FDR, use:\n",
    "## deg_annot_unique <- keep_bestFDR(deg_annot)\n",
    "\n",
    "## ----------------------------\n",
    "## 3) Recombine, rank globally, take TOP 2450\n",
    "## ----------------------------\n",
    "deg_combined <- rbind(deg_annot_unique, deg_unann)\n",
    "\n",
    "## Global ranking by significance (FDR, then P, then |logFC|)\n",
    "deg_combined <- deg_combined[order(deg_combined$adj.P.Val,\n",
    "                                   deg_combined$P.Value,\n",
    "                                   -abs(deg_combined$logFC),\n",
    "                                   deg_combined$ProbeID), ]\n",
    "\n",
    "deg_top2450 <- head(deg_combined, 2450)\n",
    "\n",
    "## ----------------------------\n",
    "## 4) Build expression matrix for WGCNA\n",
    "## ----------------------------\n",
    "## Use Symbol if present, else ProbeID; make unique for rownames\n",
    "gene_labels <- ifelse(deg_top2450$Symbol == \"\" | is.na(deg_top2450$Symbol),\n",
    "                      deg_top2450$ProbeID,\n",
    "                      deg_top2450$Symbol)\n",
    "\n",
    "## Ensure all requested probes are present in expr_probe\n",
    "missing <- setdiff(deg_top2450$ProbeID, rownames(expr_probe))\n",
    "if (length(missing) > 0) {\n",
    "  warning(length(missing), \" ProbeIDs not found in expr_probe; they will be dropped.\")\n",
    "}\n",
    "\n",
    "keep <- deg_top2450$ProbeID %in% rownames(expr_probe)\n",
    "expr_deg_top2450 <- expr_probe[deg_top2450$ProbeID[keep], , drop = FALSE]\n",
    "rownames(expr_deg_top2450) <- make.unique(gene_labels[keep])\n",
    "\n",
    "## ----------------------------\n",
    "## 5) Save outputs\n",
    "## ----------------------------\n",
    "write.csv2(deg_probe,                 \"DE_probe_all.csv\", row.names = FALSE)\n",
    "write.csv2(deg_probe_filt,            \"DE_probe_filtered.csv\", row.names = FALSE)\n",
    "write.csv2(deg_annot_unique,          \"DE_probe_annot_unique.csv\", row.names = FALSE)\n",
    "write.csv2(deg_combined,              \"DE_probe_combined.csv\", row.names = FALSE)\n",
    "write.csv2(deg_top2450,               \"DE_probe_top2450.csv\", row.names = FALSE)\n",
    "write.csv2(as.data.frame(expr_deg_top2450), \"expression_DE_PROBES_top2450_for_WGCNA.csv\")"
   ]
  },
  {
   "cell_type": "code",
   "execution_count": 74,
   "id": "3cbdbd90",
   "metadata": {
    "vscode": {
     "languageId": "r"
    }
   },
   "outputs": [
    {
     "name": "stdout",
     "output_type": "stream",
     "text": [
      "Total DEGs (with symbols): 2817 \n"
     ]
    }
   ],
   "source": [
    "# Quick summary\n",
    "cat(\"Total DEGs (with symbols):\", nrow(deg_combined), \"\\n\")"
   ]
  },
  {
   "cell_type": "code",
   "execution_count": 75,
   "id": "88bef8d3",
   "metadata": {
    "vscode": {
     "languageId": "r"
    }
   },
   "outputs": [
    {
     "data": {
      "text/html": [
       "<table class=\"dataframe\">\n",
       "<caption>A tibble: 6 × 11</caption>\n",
       "<thead>\n",
       "\t<tr><th scope=col>ID</th><th scope=col>Gene.title</th><th scope=col>Gene.symbol</th><th scope=col>Gene.ID</th><th scope=col>GenBank.Accession</th><th scope=col>logFC</th><th scope=col>AveExpr</th><th scope=col>t</th><th scope=col>P.Value</th><th scope=col>adj.P.Val</th><th scope=col>B</th></tr>\n",
       "\t<tr><th scope=col>&lt;chr&gt;</th><th scope=col>&lt;chr&gt;</th><th scope=col>&lt;chr&gt;</th><th scope=col>&lt;dbl&gt;</th><th scope=col>&lt;chr&gt;</th><th scope=col>&lt;dbl&gt;</th><th scope=col>&lt;dbl&gt;</th><th scope=col>&lt;dbl&gt;</th><th scope=col>&lt;dbl&gt;</th><th scope=col>&lt;dbl&gt;</th><th scope=col>&lt;dbl&gt;</th></tr>\n",
       "</thead>\n",
       "<tbody>\n",
       "\t<tr><td>ILMN_1724686</td><td>claudin 1                                    </td><td>CLDN1 </td><td> 9076</td><td>NM_021101</td><td> 2.898190</td><td> 8.206955</td><td> 26.09215</td><td>2.142319e-65</td><td>1.013103e-60</td><td>138.2399</td></tr>\n",
       "\t<tr><td>ILMN_1796801</td><td>ATP binding cassette subfamily A member 8    </td><td>ABCA8 </td><td>10351</td><td>NM_007168</td><td>-2.219053</td><td> 8.525836</td><td>-25.13889</td><td>5.706935e-63</td><td>1.349405e-58</td><td>132.7277</td></tr>\n",
       "\t<tr><td>ILMN_1735578</td><td>guanylate cyclase activator 2B               </td><td>GUCA2B</td><td> 2981</td><td>NM_007102</td><td>-3.382612</td><td> 8.976680</td><td>-23.35400</td><td>2.699408e-58</td><td>4.255166e-54</td><td>122.0912</td></tr>\n",
       "\t<tr><td>ILMN_1763749</td><td>guanylate cyclase activator 2A               </td><td>GUCA2A</td><td> 2980</td><td>NM_033553</td><td>-4.022642</td><td>10.673834</td><td>-22.80335</td><td>8.103526e-57</td><td>9.580394e-53</td><td>118.7267</td></tr>\n",
       "\t<tr><td>ILMN_2210934</td><td>nuclear receptor subfamily 3 group C member 2</td><td>NR3C2 </td><td> 4306</td><td>NM_000901</td><td>-1.995027</td><td> 9.671917</td><td>-22.26462</td><td>2.344417e-55</td><td>2.217350e-51</td><td>115.3975</td></tr>\n",
       "\t<tr><td>ILMN_2126038</td><td>stathmin 2                                   </td><td>STMN2 </td><td>11075</td><td>NM_007029</td><td>-1.770089</td><td> 8.340472</td><td>-22.20543</td><td>3.400732e-55</td><td>2.680343e-51</td><td>115.0294</td></tr>\n",
       "</tbody>\n",
       "</table>\n"
      ],
      "text/latex": [
       "A tibble: 6 × 11\n",
       "\\begin{tabular}{lllllllllll}\n",
       " ID & Gene.title & Gene.symbol & Gene.ID & GenBank.Accession & logFC & AveExpr & t & P.Value & adj.P.Val & B\\\\\n",
       " <chr> & <chr> & <chr> & <dbl> & <chr> & <dbl> & <dbl> & <dbl> & <dbl> & <dbl> & <dbl>\\\\\n",
       "\\hline\n",
       "\t ILMN\\_1724686 & claudin 1                                     & CLDN1  &  9076 & NM\\_021101 &  2.898190 &  8.206955 &  26.09215 & 2.142319e-65 & 1.013103e-60 & 138.2399\\\\\n",
       "\t ILMN\\_1796801 & ATP binding cassette subfamily A member 8     & ABCA8  & 10351 & NM\\_007168 & -2.219053 &  8.525836 & -25.13889 & 5.706935e-63 & 1.349405e-58 & 132.7277\\\\\n",
       "\t ILMN\\_1735578 & guanylate cyclase activator 2B                & GUCA2B &  2981 & NM\\_007102 & -3.382612 &  8.976680 & -23.35400 & 2.699408e-58 & 4.255166e-54 & 122.0912\\\\\n",
       "\t ILMN\\_1763749 & guanylate cyclase activator 2A                & GUCA2A &  2980 & NM\\_033553 & -4.022642 & 10.673834 & -22.80335 & 8.103526e-57 & 9.580394e-53 & 118.7267\\\\\n",
       "\t ILMN\\_2210934 & nuclear receptor subfamily 3 group C member 2 & NR3C2  &  4306 & NM\\_000901 & -1.995027 &  9.671917 & -22.26462 & 2.344417e-55 & 2.217350e-51 & 115.3975\\\\\n",
       "\t ILMN\\_2126038 & stathmin 2                                    & STMN2  & 11075 & NM\\_007029 & -1.770089 &  8.340472 & -22.20543 & 3.400732e-55 & 2.680343e-51 & 115.0294\\\\\n",
       "\\end{tabular}\n"
      ],
      "text/markdown": [
       "\n",
       "A tibble: 6 × 11\n",
       "\n",
       "| ID &lt;chr&gt; | Gene.title &lt;chr&gt; | Gene.symbol &lt;chr&gt; | Gene.ID &lt;dbl&gt; | GenBank.Accession &lt;chr&gt; | logFC &lt;dbl&gt; | AveExpr &lt;dbl&gt; | t &lt;dbl&gt; | P.Value &lt;dbl&gt; | adj.P.Val &lt;dbl&gt; | B &lt;dbl&gt; |\n",
       "|---|---|---|---|---|---|---|---|---|---|---|\n",
       "| ILMN_1724686 | claudin 1                                     | CLDN1  |  9076 | NM_021101 |  2.898190 |  8.206955 |  26.09215 | 2.142319e-65 | 1.013103e-60 | 138.2399 |\n",
       "| ILMN_1796801 | ATP binding cassette subfamily A member 8     | ABCA8  | 10351 | NM_007168 | -2.219053 |  8.525836 | -25.13889 | 5.706935e-63 | 1.349405e-58 | 132.7277 |\n",
       "| ILMN_1735578 | guanylate cyclase activator 2B                | GUCA2B |  2981 | NM_007102 | -3.382612 |  8.976680 | -23.35400 | 2.699408e-58 | 4.255166e-54 | 122.0912 |\n",
       "| ILMN_1763749 | guanylate cyclase activator 2A                | GUCA2A |  2980 | NM_033553 | -4.022642 | 10.673834 | -22.80335 | 8.103526e-57 | 9.580394e-53 | 118.7267 |\n",
       "| ILMN_2210934 | nuclear receptor subfamily 3 group C member 2 | NR3C2  |  4306 | NM_000901 | -1.995027 |  9.671917 | -22.26462 | 2.344417e-55 | 2.217350e-51 | 115.3975 |\n",
       "| ILMN_2126038 | stathmin 2                                    | STMN2  | 11075 | NM_007029 | -1.770089 |  8.340472 | -22.20543 | 3.400732e-55 | 2.680343e-51 | 115.0294 |\n",
       "\n"
      ],
      "text/plain": [
       "  ID           Gene.title                                    Gene.symbol\n",
       "1 ILMN_1724686 claudin 1                                     CLDN1      \n",
       "2 ILMN_1796801 ATP binding cassette subfamily A member 8     ABCA8      \n",
       "3 ILMN_1735578 guanylate cyclase activator 2B                GUCA2B     \n",
       "4 ILMN_1763749 guanylate cyclase activator 2A                GUCA2A     \n",
       "5 ILMN_2210934 nuclear receptor subfamily 3 group C member 2 NR3C2      \n",
       "6 ILMN_2126038 stathmin 2                                    STMN2      \n",
       "  Gene.ID GenBank.Accession logFC     AveExpr   t         P.Value     \n",
       "1  9076   NM_021101          2.898190  8.206955  26.09215 2.142319e-65\n",
       "2 10351   NM_007168         -2.219053  8.525836 -25.13889 5.706935e-63\n",
       "3  2981   NM_007102         -3.382612  8.976680 -23.35400 2.699408e-58\n",
       "4  2980   NM_033553         -4.022642 10.673834 -22.80335 8.103526e-57\n",
       "5  4306   NM_000901         -1.995027  9.671917 -22.26462 2.344417e-55\n",
       "6 11075   NM_007029         -1.770089  8.340472 -22.20543 3.400732e-55\n",
       "  adj.P.Val    B       \n",
       "1 1.013103e-60 138.2399\n",
       "2 1.349405e-58 132.7277\n",
       "3 4.255166e-54 122.0912\n",
       "4 9.580394e-53 118.7267\n",
       "5 2.217350e-51 115.3975\n",
       "6 2.680343e-51 115.0294"
      ]
     },
     "metadata": {},
     "output_type": "display_data"
    }
   ],
   "source": [
    "de_paper <- read_excel(\"DE_paper.xlsx\")\n",
    "head(de_paper)"
   ]
  },
  {
   "cell_type": "code",
   "execution_count": 76,
   "id": "542bbf81",
   "metadata": {
    "vscode": {
     "languageId": "r"
    }
   },
   "outputs": [],
   "source": [
    "deg_probe_all <- deg_probe"
   ]
  },
  {
   "cell_type": "code",
   "execution_count": 77,
   "id": "8bbfe19b",
   "metadata": {
    "vscode": {
     "languageId": "r"
    }
   },
   "outputs": [
    {
     "name": "stderr",
     "output_type": "stream",
     "text": [
      "Matched probes: 2449\n",
      "\n"
     ]
    },
    {
     "data": {
      "image/png": "[encoded data removed]",
      "text/plain": [
       "plot without title"
      ]
     },
     "metadata": {
      "image/png": {
       "height": 420,
       "width": 420
      }
     },
     "output_type": "display_data"
    },
    {
     "data": {
      "image/png": "[encoded data removed]",
      "text/plain": [
       "plot without title"
      ]
     },
     "metadata": {
      "image/png": {
       "height": 420,
       "width": 420
      }
     },
     "output_type": "display_data"
    }
   ],
   "source": [
    "cmp <- de_paper %>%\n",
    "  distinct(ID, .keep_all = TRUE) %>%\n",
    "  transmute(ProbeID = as.character(ID),\n",
    "            logFC_paper = as.numeric(logFC),\n",
    "            adj.P.Val_paper = as.numeric(adj.P.Val)) %>%\n",
    "  inner_join(\n",
    "    deg_probe_all %>%\n",
    "      transmute(ProbeID = as.character(ProbeID),\n",
    "                logFC_mine = as.numeric(logFC),\n",
    "                adj.P.Val_mine = as.numeric(adj.P.Val)),\n",
    "    by = \"ProbeID\"\n",
    "  )\n",
    "\n",
    "message(\"Matched probes: \", nrow(cmp))\n",
    "\n",
    "## 2) Correlations (optional, shown in subtitles)\n",
    "cor_lfc <- suppressWarnings(cor(cmp$logFC_paper, cmp$logFC_mine, use = \"complete.obs\"))\n",
    "cor_fdr <- suppressWarnings(cor(log10(pmax(cmp$adj.P.Val_paper, .Machine$double.xmin)),\n",
    "                                log10(pmax(cmp$adj.P.Val_mine,  .Machine$double.xmin)),\n",
    "                                use = \"complete.obs\"))\n",
    "\n",
    "## 3) Plot: adjusted p-values (use log scales for visibility)\n",
    "p_padj <- ggplot(cmp, aes(x = adj.P.Val_paper, y = adj.P.Val_mine)) +\n",
    "  geom_point(alpha = 0.55, size = 1.6) +\n",
    "  geom_abline(slope = 1, intercept = 0, linetype = \"dashed\") +\n",
    "  scale_x_log10() + scale_y_log10() +\n",
    "  labs(\n",
    "    title = \"Adjusted p-values (FDR): Paper vs Mine\",\n",
    "    subtitle = paste0(\"Pearson r of log10(FDR): \", sprintf(\"%.3f\", cor_fdr),\n",
    "                      \" | n = \", nrow(cmp)),\n",
    "    x = \"Paper adj.P.Val\",\n",
    "    y = \"My adj.P.Val\"\n",
    "  ) +\n",
    "  theme_bw()\n",
    "\n",
    "## 4) Plot: logFC\n",
    "lim_lfc <- range(c(cmp$logFC_paper, cmp$logFC_mine), na.rm = TRUE)\n",
    "p_lfc <- ggplot(cmp, aes(x = logFC_paper, y = logFC_mine)) +\n",
    "  geom_point(alpha = 0.55, size = 1.6) +\n",
    "  geom_abline(slope = 1, intercept = 0, linetype = \"dashed\") +\n",
    "  coord_equal(xlim = lim_lfc, ylim = lim_lfc, expand = TRUE) +\n",
    "  labs(\n",
    "    title = \"logFC: Paper vs Mine\",\n",
    "    subtitle = paste0(\"Pearson r = \", sprintf(\"%.3f\", cor_lfc),\n",
    "                      \" | n = \", nrow(cmp)),\n",
    "    x = \"Paper logFC\",\n",
    "    y = \"My logFC\"\n",
    "  ) +\n",
    "  theme_bw()\n",
    "\n",
    "## 5) Print and/or save\n",
    "print(p_padj)\n",
    "print(p_lfc)\n",
    "ggsave(\"compare_adjPVal_paper_vs_mine.png\", p_padj, width = 6, height = 5, dpi = 300)\n",
    "ggsave(\"compare_logFC_paper_vs_mine.png\",   p_lfc,  width = 6, height = 5, dpi = 300)\n",
    "\n",
    "## 6) (Optional) export the aligned data used for the plots\n",
    "write.csv(cmp, \"paper_vs_mine_aligned_on_probeIDs.csv\", row.names = FALSE)"
   ]
  }
 ],
 "metadata": {
  "kernelspec": {
   "display_name": "R",
   "language": "R",
   "name": "ir"
  },
  "language_info": {
   "codemirror_mode": "r",
   "file_extension": ".r",
   "mimetype": "text/x-r-source",
   "name": "R",
   "pygments_lexer": "r",
   "version": "4.5.1"
  }
 },
 "nbformat": 4,
 "nbformat_minor": 5
}
