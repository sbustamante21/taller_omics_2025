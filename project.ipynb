{
 "cells": [
  {
   "cell_type": "code",
   "execution_count": 20,
   "id": "da1f4a37",
   "metadata": {
    "vscode": {
     "languageId": "r"
    }
   },
   "outputs": [],
   "source": [
    "library(limma)\n",
    "library(GEOquery)\n",
    "library(WGCNA)\n",
    "library(dplyr)"
   ]
  },
  {
   "cell_type": "code",
   "execution_count": 21,
   "id": "94a4fb67",
   "metadata": {
    "vscode": {
     "languageId": "r"
    }
   },
   "outputs": [
    {
     "name": "stderr",
     "output_type": "stream",
     "text": [
      "Found 1 file(s)\n",
      "\n",
      "GSE106582_series_matrix.txt.gz\n",
      "\n",
      "Using locally cached version: /tmp/RtmpJsLRW9/GSE106582_series_matrix.txt.gz\n",
      "\n",
      "Using locally cached version of GPL10558 found here:\n",
      "/tmp/RtmpJsLRW9/GPL10558.soft.gz \n",
      "\n"
     ]
    }
   ],
   "source": [
    "gse <- getGEO(\"GSE106582\", GSEMatrix = TRUE)"
   ]
  },
  {
   "cell_type": "code",
   "execution_count": 22,
   "id": "2983e319",
   "metadata": {
    "vscode": {
     "languageId": "r"
    }
   },
   "outputs": [],
   "source": [
    "expr <- exprs(gse[[1]])\n",
    "pheno <- pData(gse[[1]])\n",
    "fdata <- fData(gse[[1]])"
   ]
  },
  {
   "cell_type": "code",
   "execution_count": 23,
   "id": "086b5b5d",
   "metadata": {
    "vscode": {
     "languageId": "r"
    }
   },
   "outputs": [],
   "source": [
    "write.csv(fdata, \"fdata.csv\", row.names = TRUE)"
   ]
  },
  {
   "cell_type": "code",
   "execution_count": 24,
   "id": "84b5aa50",
   "metadata": {
    "vscode": {
     "languageId": "r"
    }
   },
   "outputs": [
    {
     "data": {
      "text/html": [
       "<table class=\"dataframe\">\n",
       "<caption>A matrix: 6 × 194 of type dbl</caption>\n",
       "<thead>\n",
       "\t<tr><th></th><th scope=col>GSM2843099</th><th scope=col>GSM2843100</th><th scope=col>GSM2843101</th><th scope=col>GSM2843102</th><th scope=col>GSM2843103</th><th scope=col>GSM2843104</th><th scope=col>GSM2843105</th><th scope=col>GSM2843106</th><th scope=col>GSM2843107</th><th scope=col>GSM2843108</th><th scope=col>⋯</th><th scope=col>GSM2843283</th><th scope=col>GSM2843284</th><th scope=col>GSM2843285</th><th scope=col>GSM2843286</th><th scope=col>GSM2843287</th><th scope=col>GSM2843288</th><th scope=col>GSM2843289</th><th scope=col>GSM2843290</th><th scope=col>GSM2843291</th><th scope=col>GSM2843292</th></tr>\n",
       "</thead>\n",
       "<tbody>\n",
       "\t<tr><th scope=row>ILMN_1343291</th><td>14.246636</td><td>14.306430</td><td>14.348227</td><td>14.233364</td><td>14.037613</td><td>14.306430</td><td>14.209482</td><td>14.233364</td><td>14.137572</td><td>14.348227</td><td>⋯</td><td>14.075304</td><td>14.209482</td><td>14.262302</td><td>14.137572</td><td>14.185752</td><td>14.306430</td><td>14.193309</td><td>14.348227</td><td>14.280982</td><td>14.246636</td></tr>\n",
       "\t<tr><th scope=row>ILMN_1343295</th><td>12.738228</td><td>12.206211</td><td>12.700099</td><td>12.029697</td><td>11.334419</td><td>12.816596</td><td>12.552413</td><td>12.822330</td><td>11.944893</td><td>12.144393</td><td>⋯</td><td>11.679008</td><td>11.843007</td><td>12.866065</td><td>11.624542</td><td>11.237864</td><td>11.465310</td><td>11.443065</td><td>10.883836</td><td>11.750486</td><td>11.466828</td></tr>\n",
       "\t<tr><th scope=row>ILMN_1651199</th><td> 6.412016</td><td> 6.633564</td><td> 6.574890</td><td> 6.450712</td><td> 6.579476</td><td> 6.439554</td><td> 6.431542</td><td> 6.346484</td><td> 6.518873</td><td> 6.325833</td><td>⋯</td><td> 6.420452</td><td> 6.674008</td><td> 6.711727</td><td> 6.579345</td><td> 6.388410</td><td> 6.399378</td><td> 6.889240</td><td> 6.394718</td><td> 6.516751</td><td> 6.187478</td></tr>\n",
       "\t<tr><th scope=row>ILMN_1651209</th><td> 6.710966</td><td> 6.805210</td><td> 6.622005</td><td> 6.668240</td><td> 6.736337</td><td> 6.703673</td><td> 6.452449</td><td> 6.592954</td><td> 6.502550</td><td> 6.656889</td><td>⋯</td><td> 6.612033</td><td> 6.555067</td><td> 6.474639</td><td> 6.650995</td><td> 6.624086</td><td> 6.799771</td><td> 6.573304</td><td> 6.542434</td><td> 6.601863</td><td> 6.723900</td></tr>\n",
       "\t<tr><th scope=row>ILMN_1651210</th><td> 6.512163</td><td> 6.588000</td><td> 6.532367</td><td> 6.576099</td><td> 6.343878</td><td> 6.589865</td><td> 6.501190</td><td> 6.571158</td><td> 6.659456</td><td> 6.476374</td><td>⋯</td><td> 6.470704</td><td> 6.419202</td><td> 6.517013</td><td> 6.552662</td><td> 6.433940</td><td> 6.433472</td><td> 6.387217</td><td> 6.443103</td><td> 6.389635</td><td> 6.528619</td></tr>\n",
       "\t<tr><th scope=row>ILMN_1651221</th><td> 6.594800</td><td> 6.556280</td><td> 6.739953</td><td> 6.621620</td><td> 6.474938</td><td> 6.607903</td><td> 6.558625</td><td> 6.456971</td><td> 6.564148</td><td> 6.600523</td><td>⋯</td><td> 6.696744</td><td> 6.628282</td><td> 6.537876</td><td> 6.755657</td><td> 6.498592</td><td> 6.568854</td><td> 6.553839</td><td> 6.688859</td><td> 6.424253</td><td> 6.568933</td></tr>\n",
       "</tbody>\n",
       "</table>\n"
      ],
      "text/latex": [
       "A matrix: 6 × 194 of type dbl\n",
       "\\begin{tabular}{r|lllllllllllllllllllll}\n",
       "  & GSM2843099 & GSM2843100 & GSM2843101 & GSM2843102 & GSM2843103 & GSM2843104 & GSM2843105 & GSM2843106 & GSM2843107 & GSM2843108 & ⋯ & GSM2843283 & GSM2843284 & GSM2843285 & GSM2843286 & GSM2843287 & GSM2843288 & GSM2843289 & GSM2843290 & GSM2843291 & GSM2843292\\\\\n",
       "\\hline\n",
       "\tILMN\\_1343291 & 14.246636 & 14.306430 & 14.348227 & 14.233364 & 14.037613 & 14.306430 & 14.209482 & 14.233364 & 14.137572 & 14.348227 & ⋯ & 14.075304 & 14.209482 & 14.262302 & 14.137572 & 14.185752 & 14.306430 & 14.193309 & 14.348227 & 14.280982 & 14.246636\\\\\n",
       "\tILMN\\_1343295 & 12.738228 & 12.206211 & 12.700099 & 12.029697 & 11.334419 & 12.816596 & 12.552413 & 12.822330 & 11.944893 & 12.144393 & ⋯ & 11.679008 & 11.843007 & 12.866065 & 11.624542 & 11.237864 & 11.465310 & 11.443065 & 10.883836 & 11.750486 & 11.466828\\\\\n",
       "\tILMN\\_1651199 &  6.412016 &  6.633564 &  6.574890 &  6.450712 &  6.579476 &  6.439554 &  6.431542 &  6.346484 &  6.518873 &  6.325833 & ⋯ &  6.420452 &  6.674008 &  6.711727 &  6.579345 &  6.388410 &  6.399378 &  6.889240 &  6.394718 &  6.516751 &  6.187478\\\\\n",
       "\tILMN\\_1651209 &  6.710966 &  6.805210 &  6.622005 &  6.668240 &  6.736337 &  6.703673 &  6.452449 &  6.592954 &  6.502550 &  6.656889 & ⋯ &  6.612033 &  6.555067 &  6.474639 &  6.650995 &  6.624086 &  6.799771 &  6.573304 &  6.542434 &  6.601863 &  6.723900\\\\\n",
       "\tILMN\\_1651210 &  6.512163 &  6.588000 &  6.532367 &  6.576099 &  6.343878 &  6.589865 &  6.501190 &  6.571158 &  6.659456 &  6.476374 & ⋯ &  6.470704 &  6.419202 &  6.517013 &  6.552662 &  6.433940 &  6.433472 &  6.387217 &  6.443103 &  6.389635 &  6.528619\\\\\n",
       "\tILMN\\_1651221 &  6.594800 &  6.556280 &  6.739953 &  6.621620 &  6.474938 &  6.607903 &  6.558625 &  6.456971 &  6.564148 &  6.600523 & ⋯ &  6.696744 &  6.628282 &  6.537876 &  6.755657 &  6.498592 &  6.568854 &  6.553839 &  6.688859 &  6.424253 &  6.568933\\\\\n",
       "\\end{tabular}\n"
      ],
      "text/markdown": [
       "\n",
       "A matrix: 6 × 194 of type dbl\n",
       "\n",
       "| <!--/--> | GSM2843099 | GSM2843100 | GSM2843101 | GSM2843102 | GSM2843103 | GSM2843104 | GSM2843105 | GSM2843106 | GSM2843107 | GSM2843108 | ⋯ | GSM2843283 | GSM2843284 | GSM2843285 | GSM2843286 | GSM2843287 | GSM2843288 | GSM2843289 | GSM2843290 | GSM2843291 | GSM2843292 |\n",
       "|---|---|---|---|---|---|---|---|---|---|---|---|---|---|---|---|---|---|---|---|---|---|\n",
       "| ILMN_1343291 | 14.246636 | 14.306430 | 14.348227 | 14.233364 | 14.037613 | 14.306430 | 14.209482 | 14.233364 | 14.137572 | 14.348227 | ⋯ | 14.075304 | 14.209482 | 14.262302 | 14.137572 | 14.185752 | 14.306430 | 14.193309 | 14.348227 | 14.280982 | 14.246636 |\n",
       "| ILMN_1343295 | 12.738228 | 12.206211 | 12.700099 | 12.029697 | 11.334419 | 12.816596 | 12.552413 | 12.822330 | 11.944893 | 12.144393 | ⋯ | 11.679008 | 11.843007 | 12.866065 | 11.624542 | 11.237864 | 11.465310 | 11.443065 | 10.883836 | 11.750486 | 11.466828 |\n",
       "| ILMN_1651199 |  6.412016 |  6.633564 |  6.574890 |  6.450712 |  6.579476 |  6.439554 |  6.431542 |  6.346484 |  6.518873 |  6.325833 | ⋯ |  6.420452 |  6.674008 |  6.711727 |  6.579345 |  6.388410 |  6.399378 |  6.889240 |  6.394718 |  6.516751 |  6.187478 |\n",
       "| ILMN_1651209 |  6.710966 |  6.805210 |  6.622005 |  6.668240 |  6.736337 |  6.703673 |  6.452449 |  6.592954 |  6.502550 |  6.656889 | ⋯ |  6.612033 |  6.555067 |  6.474639 |  6.650995 |  6.624086 |  6.799771 |  6.573304 |  6.542434 |  6.601863 |  6.723900 |\n",
       "| ILMN_1651210 |  6.512163 |  6.588000 |  6.532367 |  6.576099 |  6.343878 |  6.589865 |  6.501190 |  6.571158 |  6.659456 |  6.476374 | ⋯ |  6.470704 |  6.419202 |  6.517013 |  6.552662 |  6.433940 |  6.433472 |  6.387217 |  6.443103 |  6.389635 |  6.528619 |\n",
       "| ILMN_1651221 |  6.594800 |  6.556280 |  6.739953 |  6.621620 |  6.474938 |  6.607903 |  6.558625 |  6.456971 |  6.564148 |  6.600523 | ⋯ |  6.696744 |  6.628282 |  6.537876 |  6.755657 |  6.498592 |  6.568854 |  6.553839 |  6.688859 |  6.424253 |  6.568933 |\n",
       "\n"
      ],
      "text/plain": [
       "             GSM2843099 GSM2843100 GSM2843101 GSM2843102 GSM2843103 GSM2843104\n",
       "ILMN_1343291 14.246636  14.306430  14.348227  14.233364  14.037613  14.306430 \n",
       "ILMN_1343295 12.738228  12.206211  12.700099  12.029697  11.334419  12.816596 \n",
       "ILMN_1651199  6.412016   6.633564   6.574890   6.450712   6.579476   6.439554 \n",
       "ILMN_1651209  6.710966   6.805210   6.622005   6.668240   6.736337   6.703673 \n",
       "ILMN_1651210  6.512163   6.588000   6.532367   6.576099   6.343878   6.589865 \n",
       "ILMN_1651221  6.594800   6.556280   6.739953   6.621620   6.474938   6.607903 \n",
       "             GSM2843105 GSM2843106 GSM2843107 GSM2843108 ⋯ GSM2843283\n",
       "ILMN_1343291 14.209482  14.233364  14.137572  14.348227  ⋯ 14.075304 \n",
       "ILMN_1343295 12.552413  12.822330  11.944893  12.144393  ⋯ 11.679008 \n",
       "ILMN_1651199  6.431542   6.346484   6.518873   6.325833  ⋯  6.420452 \n",
       "ILMN_1651209  6.452449   6.592954   6.502550   6.656889  ⋯  6.612033 \n",
       "ILMN_1651210  6.501190   6.571158   6.659456   6.476374  ⋯  6.470704 \n",
       "ILMN_1651221  6.558625   6.456971   6.564148   6.600523  ⋯  6.696744 \n",
       "             GSM2843284 GSM2843285 GSM2843286 GSM2843287 GSM2843288 GSM2843289\n",
       "ILMN_1343291 14.209482  14.262302  14.137572  14.185752  14.306430  14.193309 \n",
       "ILMN_1343295 11.843007  12.866065  11.624542  11.237864  11.465310  11.443065 \n",
       "ILMN_1651199  6.674008   6.711727   6.579345   6.388410   6.399378   6.889240 \n",
       "ILMN_1651209  6.555067   6.474639   6.650995   6.624086   6.799771   6.573304 \n",
       "ILMN_1651210  6.419202   6.517013   6.552662   6.433940   6.433472   6.387217 \n",
       "ILMN_1651221  6.628282   6.537876   6.755657   6.498592   6.568854   6.553839 \n",
       "             GSM2843290 GSM2843291 GSM2843292\n",
       "ILMN_1343291 14.348227  14.280982  14.246636 \n",
       "ILMN_1343295 10.883836  11.750486  11.466828 \n",
       "ILMN_1651199  6.394718   6.516751   6.187478 \n",
       "ILMN_1651209  6.542434   6.601863   6.723900 \n",
       "ILMN_1651210  6.443103   6.389635   6.528619 \n",
       "ILMN_1651221  6.688859   6.424253   6.568933 "
      ]
     },
     "metadata": {},
     "output_type": "display_data"
    }
   ],
   "source": [
    "head(expr)"
   ]
  },
  {
   "cell_type": "code",
   "execution_count": 25,
   "id": "d2bf8c3a",
   "metadata": {
    "vscode": {
     "languageId": "r"
    }
   },
   "outputs": [
    {
     "data": {
      "text/html": [
       "<table class=\"dataframe\">\n",
       "<caption>A data.frame: 6 × 36</caption>\n",
       "<thead>\n",
       "\t<tr><th></th><th scope=col>title</th><th scope=col>geo_accession</th><th scope=col>status</th><th scope=col>submission_date</th><th scope=col>last_update_date</th><th scope=col>type</th><th scope=col>channel_count</th><th scope=col>source_name_ch1</th><th scope=col>organism_ch1</th><th scope=col>characteristics_ch1</th><th scope=col>⋯</th><th scope=col>contact_city</th><th scope=col>contact_zip/postal_code</th><th scope=col>contact_country</th><th scope=col>supplementary_file</th><th scope=col>data_row_count</th><th scope=col>age:ch1</th><th scope=col>disease state:ch1</th><th scope=col>gender:ch1</th><th scope=col>patientid:ch1</th><th scope=col>tissue:ch1</th></tr>\n",
       "\t<tr><th></th><th scope=col>&lt;chr&gt;</th><th scope=col>&lt;chr&gt;</th><th scope=col>&lt;chr&gt;</th><th scope=col>&lt;chr&gt;</th><th scope=col>&lt;chr&gt;</th><th scope=col>&lt;chr&gt;</th><th scope=col>&lt;chr&gt;</th><th scope=col>&lt;chr&gt;</th><th scope=col>&lt;chr&gt;</th><th scope=col>&lt;chr&gt;</th><th scope=col>⋯</th><th scope=col>&lt;chr&gt;</th><th scope=col>&lt;chr&gt;</th><th scope=col>&lt;chr&gt;</th><th scope=col>&lt;chr&gt;</th><th scope=col>&lt;chr&gt;</th><th scope=col>&lt;chr&gt;</th><th scope=col>&lt;chr&gt;</th><th scope=col>&lt;chr&gt;</th><th scope=col>&lt;chr&gt;</th><th scope=col>&lt;chr&gt;</th></tr>\n",
       "</thead>\n",
       "<tbody>\n",
       "\t<tr><th scope=row>GSM2843099</th><td>400072_A</td><td>GSM2843099</td><td>Public on Dec 01 2018</td><td>Nov 06 2017</td><td>Dec 01 2018</td><td>RNA</td><td>1</td><td>Patient 400072; Tissue tumor </td><td>Homo sapiens</td><td>patientid: 400072</td><td>⋯</td><td>Freiburg</td><td>79110</td><td>Germany</td><td>NONE</td><td>47290</td><td>76</td><td>Colorectal cancer patient</td><td>M</td><td>400072</td><td>tumor </td></tr>\n",
       "\t<tr><th scope=row>GSM2843100</th><td>400072_C</td><td>GSM2843100</td><td>Public on Dec 01 2018</td><td>Nov 06 2017</td><td>Dec 01 2018</td><td>RNA</td><td>1</td><td>Patient 400072; Tissue mucosa</td><td>Homo sapiens</td><td>patientid: 400072</td><td>⋯</td><td>Freiburg</td><td>79110</td><td>Germany</td><td>NONE</td><td>47290</td><td>76</td><td>Colorectal cancer patient</td><td>M</td><td>400072</td><td>mucosa</td></tr>\n",
       "\t<tr><th scope=row>GSM2843101</th><td>400152_A</td><td>GSM2843101</td><td>Public on Dec 01 2018</td><td>Nov 06 2017</td><td>Dec 01 2018</td><td>RNA</td><td>1</td><td>Patient 400152; Tissue tumor </td><td>Homo sapiens</td><td>patientid: 400152</td><td>⋯</td><td>Freiburg</td><td>79110</td><td>Germany</td><td>NONE</td><td>47290</td><td>34</td><td>Colorectal cancer patient</td><td>M</td><td>400152</td><td>tumor </td></tr>\n",
       "\t<tr><th scope=row>GSM2843102</th><td>400152_C</td><td>GSM2843102</td><td>Public on Dec 01 2018</td><td>Nov 06 2017</td><td>Dec 01 2018</td><td>RNA</td><td>1</td><td>Patient 400152; Tissue mucosa</td><td>Homo sapiens</td><td>patientid: 400152</td><td>⋯</td><td>Freiburg</td><td>79110</td><td>Germany</td><td>NONE</td><td>47290</td><td>34</td><td>Colorectal cancer patient</td><td>M</td><td>400152</td><td>mucosa</td></tr>\n",
       "\t<tr><th scope=row>GSM2843103</th><td>400200_C</td><td>GSM2843103</td><td>Public on Dec 01 2018</td><td>Nov 06 2017</td><td>Dec 01 2018</td><td>RNA</td><td>1</td><td>Patient 400200; Tissue mucosa</td><td>Homo sapiens</td><td>patientid: 400200</td><td>⋯</td><td>Freiburg</td><td>79110</td><td>Germany</td><td>NONE</td><td>47290</td><td>53</td><td>Colorectal cancer patient</td><td>M</td><td>400200</td><td>mucosa</td></tr>\n",
       "\t<tr><th scope=row>GSM2843104</th><td>400216_A</td><td>GSM2843104</td><td>Public on Dec 01 2018</td><td>Nov 06 2017</td><td>Dec 01 2018</td><td>RNA</td><td>1</td><td>Patient 400216; Tissue tumor </td><td>Homo sapiens</td><td>patientid: 400216</td><td>⋯</td><td>Freiburg</td><td>79110</td><td>Germany</td><td>NONE</td><td>47290</td><td>56</td><td>Colorectal cancer patient</td><td>M</td><td>400216</td><td>tumor </td></tr>\n",
       "</tbody>\n",
       "</table>\n"
      ],
      "text/latex": [
       "A data.frame: 6 × 36\n",
       "\\begin{tabular}{r|lllllllllllllllllllll}\n",
       "  & title & geo\\_accession & status & submission\\_date & last\\_update\\_date & type & channel\\_count & source\\_name\\_ch1 & organism\\_ch1 & characteristics\\_ch1 & ⋯ & contact\\_city & contact\\_zip/postal\\_code & contact\\_country & supplementary\\_file & data\\_row\\_count & age:ch1 & disease state:ch1 & gender:ch1 & patientid:ch1 & tissue:ch1\\\\\n",
       "  & <chr> & <chr> & <chr> & <chr> & <chr> & <chr> & <chr> & <chr> & <chr> & <chr> & ⋯ & <chr> & <chr> & <chr> & <chr> & <chr> & <chr> & <chr> & <chr> & <chr> & <chr>\\\\\n",
       "\\hline\n",
       "\tGSM2843099 & 400072\\_A & GSM2843099 & Public on Dec 01 2018 & Nov 06 2017 & Dec 01 2018 & RNA & 1 & Patient 400072; Tissue tumor  & Homo sapiens & patientid: 400072 & ⋯ & Freiburg & 79110 & Germany & NONE & 47290 & 76 & Colorectal cancer patient & M & 400072 & tumor \\\\\n",
       "\tGSM2843100 & 400072\\_C & GSM2843100 & Public on Dec 01 2018 & Nov 06 2017 & Dec 01 2018 & RNA & 1 & Patient 400072; Tissue mucosa & Homo sapiens & patientid: 400072 & ⋯ & Freiburg & 79110 & Germany & NONE & 47290 & 76 & Colorectal cancer patient & M & 400072 & mucosa\\\\\n",
       "\tGSM2843101 & 400152\\_A & GSM2843101 & Public on Dec 01 2018 & Nov 06 2017 & Dec 01 2018 & RNA & 1 & Patient 400152; Tissue tumor  & Homo sapiens & patientid: 400152 & ⋯ & Freiburg & 79110 & Germany & NONE & 47290 & 34 & Colorectal cancer patient & M & 400152 & tumor \\\\\n",
       "\tGSM2843102 & 400152\\_C & GSM2843102 & Public on Dec 01 2018 & Nov 06 2017 & Dec 01 2018 & RNA & 1 & Patient 400152; Tissue mucosa & Homo sapiens & patientid: 400152 & ⋯ & Freiburg & 79110 & Germany & NONE & 47290 & 34 & Colorectal cancer patient & M & 400152 & mucosa\\\\\n",
       "\tGSM2843103 & 400200\\_C & GSM2843103 & Public on Dec 01 2018 & Nov 06 2017 & Dec 01 2018 & RNA & 1 & Patient 400200; Tissue mucosa & Homo sapiens & patientid: 400200 & ⋯ & Freiburg & 79110 & Germany & NONE & 47290 & 53 & Colorectal cancer patient & M & 400200 & mucosa\\\\\n",
       "\tGSM2843104 & 400216\\_A & GSM2843104 & Public on Dec 01 2018 & Nov 06 2017 & Dec 01 2018 & RNA & 1 & Patient 400216; Tissue tumor  & Homo sapiens & patientid: 400216 & ⋯ & Freiburg & 79110 & Germany & NONE & 47290 & 56 & Colorectal cancer patient & M & 400216 & tumor \\\\\n",
       "\\end{tabular}\n"
      ],
      "text/markdown": [
       "\n",
       "A data.frame: 6 × 36\n",
       "\n",
       "| <!--/--> | title &lt;chr&gt; | geo_accession &lt;chr&gt; | status &lt;chr&gt; | submission_date &lt;chr&gt; | last_update_date &lt;chr&gt; | type &lt;chr&gt; | channel_count &lt;chr&gt; | source_name_ch1 &lt;chr&gt; | organism_ch1 &lt;chr&gt; | characteristics_ch1 &lt;chr&gt; | ⋯ ⋯ | contact_city &lt;chr&gt; | contact_zip/postal_code &lt;chr&gt; | contact_country &lt;chr&gt; | supplementary_file &lt;chr&gt; | data_row_count &lt;chr&gt; | age:ch1 &lt;chr&gt; | disease state:ch1 &lt;chr&gt; | gender:ch1 &lt;chr&gt; | patientid:ch1 &lt;chr&gt; | tissue:ch1 &lt;chr&gt; |\n",
       "|---|---|---|---|---|---|---|---|---|---|---|---|---|---|---|---|---|---|---|---|---|---|\n",
       "| GSM2843099 | 400072_A | GSM2843099 | Public on Dec 01 2018 | Nov 06 2017 | Dec 01 2018 | RNA | 1 | Patient 400072; Tissue tumor  | Homo sapiens | patientid: 400072 | ⋯ | Freiburg | 79110 | Germany | NONE | 47290 | 76 | Colorectal cancer patient | M | 400072 | tumor  |\n",
       "| GSM2843100 | 400072_C | GSM2843100 | Public on Dec 01 2018 | Nov 06 2017 | Dec 01 2018 | RNA | 1 | Patient 400072; Tissue mucosa | Homo sapiens | patientid: 400072 | ⋯ | Freiburg | 79110 | Germany | NONE | 47290 | 76 | Colorectal cancer patient | M | 400072 | mucosa |\n",
       "| GSM2843101 | 400152_A | GSM2843101 | Public on Dec 01 2018 | Nov 06 2017 | Dec 01 2018 | RNA | 1 | Patient 400152; Tissue tumor  | Homo sapiens | patientid: 400152 | ⋯ | Freiburg | 79110 | Germany | NONE | 47290 | 34 | Colorectal cancer patient | M | 400152 | tumor  |\n",
       "| GSM2843102 | 400152_C | GSM2843102 | Public on Dec 01 2018 | Nov 06 2017 | Dec 01 2018 | RNA | 1 | Patient 400152; Tissue mucosa | Homo sapiens | patientid: 400152 | ⋯ | Freiburg | 79110 | Germany | NONE | 47290 | 34 | Colorectal cancer patient | M | 400152 | mucosa |\n",
       "| GSM2843103 | 400200_C | GSM2843103 | Public on Dec 01 2018 | Nov 06 2017 | Dec 01 2018 | RNA | 1 | Patient 400200; Tissue mucosa | Homo sapiens | patientid: 400200 | ⋯ | Freiburg | 79110 | Germany | NONE | 47290 | 53 | Colorectal cancer patient | M | 400200 | mucosa |\n",
       "| GSM2843104 | 400216_A | GSM2843104 | Public on Dec 01 2018 | Nov 06 2017 | Dec 01 2018 | RNA | 1 | Patient 400216; Tissue tumor  | Homo sapiens | patientid: 400216 | ⋯ | Freiburg | 79110 | Germany | NONE | 47290 | 56 | Colorectal cancer patient | M | 400216 | tumor  |\n",
       "\n"
      ],
      "text/plain": [
       "           title    geo_accession status                submission_date\n",
       "GSM2843099 400072_A GSM2843099    Public on Dec 01 2018 Nov 06 2017    \n",
       "GSM2843100 400072_C GSM2843100    Public on Dec 01 2018 Nov 06 2017    \n",
       "GSM2843101 400152_A GSM2843101    Public on Dec 01 2018 Nov 06 2017    \n",
       "GSM2843102 400152_C GSM2843102    Public on Dec 01 2018 Nov 06 2017    \n",
       "GSM2843103 400200_C GSM2843103    Public on Dec 01 2018 Nov 06 2017    \n",
       "GSM2843104 400216_A GSM2843104    Public on Dec 01 2018 Nov 06 2017    \n",
       "           last_update_date type channel_count source_name_ch1              \n",
       "GSM2843099 Dec 01 2018      RNA  1             Patient 400072; Tissue tumor \n",
       "GSM2843100 Dec 01 2018      RNA  1             Patient 400072; Tissue mucosa\n",
       "GSM2843101 Dec 01 2018      RNA  1             Patient 400152; Tissue tumor \n",
       "GSM2843102 Dec 01 2018      RNA  1             Patient 400152; Tissue mucosa\n",
       "GSM2843103 Dec 01 2018      RNA  1             Patient 400200; Tissue mucosa\n",
       "GSM2843104 Dec 01 2018      RNA  1             Patient 400216; Tissue tumor \n",
       "           organism_ch1 characteristics_ch1 ⋯ contact_city\n",
       "GSM2843099 Homo sapiens patientid: 400072   ⋯ Freiburg    \n",
       "GSM2843100 Homo sapiens patientid: 400072   ⋯ Freiburg    \n",
       "GSM2843101 Homo sapiens patientid: 400152   ⋯ Freiburg    \n",
       "GSM2843102 Homo sapiens patientid: 400152   ⋯ Freiburg    \n",
       "GSM2843103 Homo sapiens patientid: 400200   ⋯ Freiburg    \n",
       "GSM2843104 Homo sapiens patientid: 400216   ⋯ Freiburg    \n",
       "           contact_zip/postal_code contact_country supplementary_file\n",
       "GSM2843099 79110                   Germany         NONE              \n",
       "GSM2843100 79110                   Germany         NONE              \n",
       "GSM2843101 79110                   Germany         NONE              \n",
       "GSM2843102 79110                   Germany         NONE              \n",
       "GSM2843103 79110                   Germany         NONE              \n",
       "GSM2843104 79110                   Germany         NONE              \n",
       "           data_row_count age:ch1 disease state:ch1         gender:ch1\n",
       "GSM2843099 47290          76      Colorectal cancer patient M         \n",
       "GSM2843100 47290          76      Colorectal cancer patient M         \n",
       "GSM2843101 47290          34      Colorectal cancer patient M         \n",
       "GSM2843102 47290          34      Colorectal cancer patient M         \n",
       "GSM2843103 47290          53      Colorectal cancer patient M         \n",
       "GSM2843104 47290          56      Colorectal cancer patient M         \n",
       "           patientid:ch1 tissue:ch1\n",
       "GSM2843099 400072        tumor     \n",
       "GSM2843100 400072        mucosa    \n",
       "GSM2843101 400152        tumor     \n",
       "GSM2843102 400152        mucosa    \n",
       "GSM2843103 400200        mucosa    \n",
       "GSM2843104 400216        tumor     "
      ]
     },
     "metadata": {},
     "output_type": "display_data"
    }
   ],
   "source": [
    "head(pheno)"
   ]
  },
  {
   "cell_type": "code",
   "execution_count": 26,
   "id": "e6c9e536",
   "metadata": {
    "vscode": {
     "languageId": "r"
    }
   },
   "outputs": [
    {
     "data": {
      "text/html": [
       "<table class=\"dataframe\">\n",
       "<caption>A data.frame: 1 × 30</caption>\n",
       "<thead>\n",
       "\t<tr><th></th><th scope=col>ID</th><th scope=col>Species</th><th scope=col>Source</th><th scope=col>Search_Key</th><th scope=col>Transcript</th><th scope=col>ILMN_Gene</th><th scope=col>Source_Reference_ID</th><th scope=col>RefSeq_ID</th><th scope=col>Unigene_ID</th><th scope=col>Entrez_Gene_ID</th><th scope=col>⋯</th><th scope=col>Probe_Chr_Orientation</th><th scope=col>Probe_Coordinates</th><th scope=col>Cytoband</th><th scope=col>Definition</th><th scope=col>Ontology_Component</th><th scope=col>Ontology_Process</th><th scope=col>Ontology_Function</th><th scope=col>Synonyms</th><th scope=col>Obsolete_Probe_Id</th><th scope=col>GB_ACC</th></tr>\n",
       "\t<tr><th></th><th scope=col>&lt;chr&gt;</th><th scope=col>&lt;chr&gt;</th><th scope=col>&lt;chr&gt;</th><th scope=col>&lt;chr&gt;</th><th scope=col>&lt;chr&gt;</th><th scope=col>&lt;chr&gt;</th><th scope=col>&lt;chr&gt;</th><th scope=col>&lt;chr&gt;</th><th scope=col>&lt;chr&gt;</th><th scope=col>&lt;int&gt;</th><th scope=col>⋯</th><th scope=col>&lt;chr&gt;</th><th scope=col>&lt;chr&gt;</th><th scope=col>&lt;chr&gt;</th><th scope=col>&lt;chr&gt;</th><th scope=col>&lt;chr&gt;</th><th scope=col>&lt;chr&gt;</th><th scope=col>&lt;chr&gt;</th><th scope=col>&lt;chr&gt;</th><th scope=col>&lt;chr&gt;</th><th scope=col>&lt;chr&gt;</th></tr>\n",
       "</thead>\n",
       "<tbody>\n",
       "\t<tr><th scope=row>ILMN_1343291</th><td>ILMN_1343291</td><td>Homo sapiens</td><td>RefSeq</td><td>NM_001402.4</td><td>ILMN_5311</td><td>EEF1A1</td><td>NM_001402.5</td><td>NM_001402.5</td><td></td><td>1915</td><td>⋯</td><td>-</td><td>74284362-74284378:74284474-74284506</td><td>6q13c</td><td>Homo sapiens eukaryotic translation elongation factor 1 alpha 1 (EEF1A1), mRNA.</td><td>All of the contents of a cell excluding the plasma membrane and nucleus, but including other subcellular structures [goid 5737] [evidence IEA]; All of the contents of a cell excluding the plasma membrane and nucleus, but including other subcellular structures [goid 5737] [evidence IEA]; All of the contents of a cell excluding the plasma membrane and nucleus, but including other subcellular structures [goid 5737] [pmid 3512269] [evidence TAS]; That part of the cytoplasm that does not contain membranous or particulate subcellular components [goid 5829] [pmid 10368288] [evidence EXP]; A multisubunit nucleotide exchange complex that binds GTP and aminoacyl-tRNAs, and catalyzes their codon-dependent placement at the A-site of the ribosome. In humans, the complex is composed of four subunits, alpha, beta, delta and gamma [goid 5853] [pmid 2564392] [evidence TAS]</td><td>The successive addition of amino acid residues to a nascent polypeptide chain during protein biosynthesis [goid 6414] [evidence IEA]; The successive addition of amino acid residues to a nascent polypeptide chain during protein biosynthesis [goid 6414] [pmid 8812466] [evidence TAS]; The successive addition of amino acid residues to a nascent polypeptide chain during protein biosynthesis [goid 6414] [pmid 15189156] [evidence EXP]</td><td>Interacting selectively with a nucleotide, any compound consisting of a nucleoside that is esterified with (ortho)phosphate or an oligophosphate at any hydroxyl group on the ribose or deoxyribose moiety [goid 166] [evidence IEA]; Functions in chain elongation during polypeptide synthesis at the ribosome [goid 3746] [evidence IEA]; Catalysis of the reaction: GTP + H2O = GDP + phosphate [goid 3924] [evidence IEA]; Interacting selectively with GTP, guanosine triphosphate [goid 5525] [evidence IEA]; Interacting selectively with a nucleotide, any compound consisting of a nucleoside that is esterified with (ortho)phosphate or an oligophosphate at any hydroxyl group on the ribose or deoxyribose moiety [goid 166] [evidence IEA]; Functions in chain elongation during polypeptide synthesis at the ribosome [goid 3746] [evidence IEA]; Catalysis of the reaction: GTP + H2O = GDP + phosphate [goid 3924] [evidence IEA]; Interacting selectively with GTP, guanosine triphosphate [goid 5525] [evidence IEA]; Interacting selectively with a nucleotide, any compound consisting of a nucleoside that is esterified with (ortho)phosphate or an oligophosphate at any hydroxyl group on the ribose or deoxyribose moiety [goid 166] [evidence IEA]; Catalysis of the reaction: GTP + H2O = GDP + phosphate [goid 3924] [evidence IEA]; Interacting selectively with GTP, guanosine triphosphate [goid 5525] [evidence IEA]; Interacting selectively with a nucleotide, any compound consisting of a nucleoside that is esterified with (ortho)phosphate or an oligophosphate at any hydroxyl group on the ribose or deoxyribose moiety [goid 166] [evidence IEA]; Catalysis of the reaction: GTP + H2O = GDP + phosphate [goid 3924] [evidence IEA]; Interacting selectively with GTP, guanosine triphosphate [goid 5525] [evidence IEA]; Interacting selectively with a nucleotide, any compound consisting of a nucleoside that is esterified with (ortho)phosphate or an oligophosphate at any hydroxyl group on the ribose or deoxyribose moiety [goid 166] [evidence IEA]; Functions in chain elongation during polypeptide synthesis at the ribosome [goid 3746] [evidence IEA]; Catalysis of the reaction: GTP + H2O = GDP + phosphate [goid 3924] [evidence IEA]; Interacting selectively with any protein or protein complex (a complex of two or more proteins that may include other nonprotein molecules) [goid 5515] [pmid 17373842] [evidence IPI]; Interacting selectively with any protein or protein complex (a complex of two or more proteins that may include other nonprotein molecules) [goid 5515] [pmid 15231747] [evidence IPI]; Interacting selectively with GTP, guanosine triphosphate [goid 5525] [pmid 3512269] [evidence TAS]</td><td>EEF1A; FLJ25721; CCS-3; PTI1; CCS3; MGC102687; MGC16224; EF-Tu; eEF1A-1; EEF-1; MGC131894; HNGC:16303; GRAF-1EF; LENG7; EF1A</td><td>EEF1A; PTI1; MGC16224; eEF1A-1; EF-Tu; EEF-1; HNGC:16303; GRAF-1EF; LENG7; EF1A</td><td>NM_001402.5</td></tr>\n",
       "</tbody>\n",
       "</table>\n"
      ],
      "text/latex": [
       "A data.frame: 1 × 30\n",
       "\\begin{tabular}{r|lllllllllllllllllllll}\n",
       "  & ID & Species & Source & Search\\_Key & Transcript & ILMN\\_Gene & Source\\_Reference\\_ID & RefSeq\\_ID & Unigene\\_ID & Entrez\\_Gene\\_ID & ⋯ & Probe\\_Chr\\_Orientation & Probe\\_Coordinates & Cytoband & Definition & Ontology\\_Component & Ontology\\_Process & Ontology\\_Function & Synonyms & Obsolete\\_Probe\\_Id & GB\\_ACC\\\\\n",
       "  & <chr> & <chr> & <chr> & <chr> & <chr> & <chr> & <chr> & <chr> & <chr> & <int> & ⋯ & <chr> & <chr> & <chr> & <chr> & <chr> & <chr> & <chr> & <chr> & <chr> & <chr>\\\\\n",
       "\\hline\n",
       "\tILMN\\_1343291 & ILMN\\_1343291 & Homo sapiens & RefSeq & NM\\_001402.4 & ILMN\\_5311 & EEF1A1 & NM\\_001402.5 & NM\\_001402.5 &  & 1915 & ⋯ & - & 74284362-74284378:74284474-74284506 & 6q13c & Homo sapiens eukaryotic translation elongation factor 1 alpha 1 (EEF1A1), mRNA. & All of the contents of a cell excluding the plasma membrane and nucleus, but including other subcellular structures {[}goid 5737{]} {[}evidence IEA{]}; All of the contents of a cell excluding the plasma membrane and nucleus, but including other subcellular structures {[}goid 5737{]} {[}evidence IEA{]}; All of the contents of a cell excluding the plasma membrane and nucleus, but including other subcellular structures {[}goid 5737{]} {[}pmid 3512269{]} {[}evidence TAS{]}; That part of the cytoplasm that does not contain membranous or particulate subcellular components {[}goid 5829{]} {[}pmid 10368288{]} {[}evidence EXP{]}; A multisubunit nucleotide exchange complex that binds GTP and aminoacyl-tRNAs, and catalyzes their codon-dependent placement at the A-site of the ribosome. In humans, the complex is composed of four subunits, alpha, beta, delta and gamma {[}goid 5853{]} {[}pmid 2564392{]} {[}evidence TAS{]} & The successive addition of amino acid residues to a nascent polypeptide chain during protein biosynthesis {[}goid 6414{]} {[}evidence IEA{]}; The successive addition of amino acid residues to a nascent polypeptide chain during protein biosynthesis {[}goid 6414{]} {[}pmid 8812466{]} {[}evidence TAS{]}; The successive addition of amino acid residues to a nascent polypeptide chain during protein biosynthesis {[}goid 6414{]} {[}pmid 15189156{]} {[}evidence EXP{]} & Interacting selectively with a nucleotide, any compound consisting of a nucleoside that is esterified with (ortho)phosphate or an oligophosphate at any hydroxyl group on the ribose or deoxyribose moiety {[}goid 166{]} {[}evidence IEA{]}; Functions in chain elongation during polypeptide synthesis at the ribosome {[}goid 3746{]} {[}evidence IEA{]}; Catalysis of the reaction: GTP + H2O = GDP + phosphate {[}goid 3924{]} {[}evidence IEA{]}; Interacting selectively with GTP, guanosine triphosphate {[}goid 5525{]} {[}evidence IEA{]}; Interacting selectively with a nucleotide, any compound consisting of a nucleoside that is esterified with (ortho)phosphate or an oligophosphate at any hydroxyl group on the ribose or deoxyribose moiety {[}goid 166{]} {[}evidence IEA{]}; Functions in chain elongation during polypeptide synthesis at the ribosome {[}goid 3746{]} {[}evidence IEA{]}; Catalysis of the reaction: GTP + H2O = GDP + phosphate {[}goid 3924{]} {[}evidence IEA{]}; Interacting selectively with GTP, guanosine triphosphate {[}goid 5525{]} {[}evidence IEA{]}; Interacting selectively with a nucleotide, any compound consisting of a nucleoside that is esterified with (ortho)phosphate or an oligophosphate at any hydroxyl group on the ribose or deoxyribose moiety {[}goid 166{]} {[}evidence IEA{]}; Catalysis of the reaction: GTP + H2O = GDP + phosphate {[}goid 3924{]} {[}evidence IEA{]}; Interacting selectively with GTP, guanosine triphosphate {[}goid 5525{]} {[}evidence IEA{]}; Interacting selectively with a nucleotide, any compound consisting of a nucleoside that is esterified with (ortho)phosphate or an oligophosphate at any hydroxyl group on the ribose or deoxyribose moiety {[}goid 166{]} {[}evidence IEA{]}; Catalysis of the reaction: GTP + H2O = GDP + phosphate {[}goid 3924{]} {[}evidence IEA{]}; Interacting selectively with GTP, guanosine triphosphate {[}goid 5525{]} {[}evidence IEA{]}; Interacting selectively with a nucleotide, any compound consisting of a nucleoside that is esterified with (ortho)phosphate or an oligophosphate at any hydroxyl group on the ribose or deoxyribose moiety {[}goid 166{]} {[}evidence IEA{]}; Functions in chain elongation during polypeptide synthesis at the ribosome {[}goid 3746{]} {[}evidence IEA{]}; Catalysis of the reaction: GTP + H2O = GDP + phosphate {[}goid 3924{]} {[}evidence IEA{]}; Interacting selectively with any protein or protein complex (a complex of two or more proteins that may include other nonprotein molecules) {[}goid 5515{]} {[}pmid 17373842{]} {[}evidence IPI{]}; Interacting selectively with any protein or protein complex (a complex of two or more proteins that may include other nonprotein molecules) {[}goid 5515{]} {[}pmid 15231747{]} {[}evidence IPI{]}; Interacting selectively with GTP, guanosine triphosphate {[}goid 5525{]} {[}pmid 3512269{]} {[}evidence TAS{]} & EEF1A; FLJ25721; CCS-3; PTI1; CCS3; MGC102687; MGC16224; EF-Tu; eEF1A-1; EEF-1; MGC131894; HNGC:16303; GRAF-1EF; LENG7; EF1A & EEF1A; PTI1; MGC16224; eEF1A-1; EF-Tu; EEF-1; HNGC:16303; GRAF-1EF; LENG7; EF1A & NM\\_001402.5\\\\\n",
       "\\end{tabular}\n"
      ],
      "text/markdown": [
       "\n",
       "A data.frame: 1 × 30\n",
       "\n",
       "| <!--/--> | ID &lt;chr&gt; | Species &lt;chr&gt; | Source &lt;chr&gt; | Search_Key &lt;chr&gt; | Transcript &lt;chr&gt; | ILMN_Gene &lt;chr&gt; | Source_Reference_ID &lt;chr&gt; | RefSeq_ID &lt;chr&gt; | Unigene_ID &lt;chr&gt; | Entrez_Gene_ID &lt;int&gt; | ⋯ ⋯ | Probe_Chr_Orientation &lt;chr&gt; | Probe_Coordinates &lt;chr&gt; | Cytoband &lt;chr&gt; | Definition &lt;chr&gt; | Ontology_Component &lt;chr&gt; | Ontology_Process &lt;chr&gt; | Ontology_Function &lt;chr&gt; | Synonyms &lt;chr&gt; | Obsolete_Probe_Id &lt;chr&gt; | GB_ACC &lt;chr&gt; |\n",
       "|---|---|---|---|---|---|---|---|---|---|---|---|---|---|---|---|---|---|---|---|---|---|\n",
       "| ILMN_1343291 | ILMN_1343291 | Homo sapiens | RefSeq | NM_001402.4 | ILMN_5311 | EEF1A1 | NM_001402.5 | NM_001402.5 | <!----> | 1915 | ⋯ | - | 74284362-74284378:74284474-74284506 | 6q13c | Homo sapiens eukaryotic translation elongation factor 1 alpha 1 (EEF1A1), mRNA. | All of the contents of a cell excluding the plasma membrane and nucleus, but including other subcellular structures [goid 5737] [evidence IEA]; All of the contents of a cell excluding the plasma membrane and nucleus, but including other subcellular structures [goid 5737] [evidence IEA]; All of the contents of a cell excluding the plasma membrane and nucleus, but including other subcellular structures [goid 5737] [pmid 3512269] [evidence TAS]; That part of the cytoplasm that does not contain membranous or particulate subcellular components [goid 5829] [pmid 10368288] [evidence EXP]; A multisubunit nucleotide exchange complex that binds GTP and aminoacyl-tRNAs, and catalyzes their codon-dependent placement at the A-site of the ribosome. In humans, the complex is composed of four subunits, alpha, beta, delta and gamma [goid 5853] [pmid 2564392] [evidence TAS] | The successive addition of amino acid residues to a nascent polypeptide chain during protein biosynthesis [goid 6414] [evidence IEA]; The successive addition of amino acid residues to a nascent polypeptide chain during protein biosynthesis [goid 6414] [pmid 8812466] [evidence TAS]; The successive addition of amino acid residues to a nascent polypeptide chain during protein biosynthesis [goid 6414] [pmid 15189156] [evidence EXP] | Interacting selectively with a nucleotide, any compound consisting of a nucleoside that is esterified with (ortho)phosphate or an oligophosphate at any hydroxyl group on the ribose or deoxyribose moiety [goid 166] [evidence IEA]; Functions in chain elongation during polypeptide synthesis at the ribosome [goid 3746] [evidence IEA]; Catalysis of the reaction: GTP + H2O = GDP + phosphate [goid 3924] [evidence IEA]; Interacting selectively with GTP, guanosine triphosphate [goid 5525] [evidence IEA]; Interacting selectively with a nucleotide, any compound consisting of a nucleoside that is esterified with (ortho)phosphate or an oligophosphate at any hydroxyl group on the ribose or deoxyribose moiety [goid 166] [evidence IEA]; Functions in chain elongation during polypeptide synthesis at the ribosome [goid 3746] [evidence IEA]; Catalysis of the reaction: GTP + H2O = GDP + phosphate [goid 3924] [evidence IEA]; Interacting selectively with GTP, guanosine triphosphate [goid 5525] [evidence IEA]; Interacting selectively with a nucleotide, any compound consisting of a nucleoside that is esterified with (ortho)phosphate or an oligophosphate at any hydroxyl group on the ribose or deoxyribose moiety [goid 166] [evidence IEA]; Catalysis of the reaction: GTP + H2O = GDP + phosphate [goid 3924] [evidence IEA]; Interacting selectively with GTP, guanosine triphosphate [goid 5525] [evidence IEA]; Interacting selectively with a nucleotide, any compound consisting of a nucleoside that is esterified with (ortho)phosphate or an oligophosphate at any hydroxyl group on the ribose or deoxyribose moiety [goid 166] [evidence IEA]; Catalysis of the reaction: GTP + H2O = GDP + phosphate [goid 3924] [evidence IEA]; Interacting selectively with GTP, guanosine triphosphate [goid 5525] [evidence IEA]; Interacting selectively with a nucleotide, any compound consisting of a nucleoside that is esterified with (ortho)phosphate or an oligophosphate at any hydroxyl group on the ribose or deoxyribose moiety [goid 166] [evidence IEA]; Functions in chain elongation during polypeptide synthesis at the ribosome [goid 3746] [evidence IEA]; Catalysis of the reaction: GTP + H2O = GDP + phosphate [goid 3924] [evidence IEA]; Interacting selectively with any protein or protein complex (a complex of two or more proteins that may include other nonprotein molecules) [goid 5515] [pmid 17373842] [evidence IPI]; Interacting selectively with any protein or protein complex (a complex of two or more proteins that may include other nonprotein molecules) [goid 5515] [pmid 15231747] [evidence IPI]; Interacting selectively with GTP, guanosine triphosphate [goid 5525] [pmid 3512269] [evidence TAS] | EEF1A; FLJ25721; CCS-3; PTI1; CCS3; MGC102687; MGC16224; EF-Tu; eEF1A-1; EEF-1; MGC131894; HNGC:16303; GRAF-1EF; LENG7; EF1A | EEF1A; PTI1; MGC16224; eEF1A-1; EF-Tu; EEF-1; HNGC:16303; GRAF-1EF; LENG7; EF1A | NM_001402.5 |\n",
       "\n"
      ],
      "text/plain": [
       "             ID           Species      Source Search_Key  Transcript ILMN_Gene\n",
       "ILMN_1343291 ILMN_1343291 Homo sapiens RefSeq NM_001402.4 ILMN_5311  EEF1A1   \n",
       "             Source_Reference_ID RefSeq_ID   Unigene_ID Entrez_Gene_ID ⋯\n",
       "ILMN_1343291 NM_001402.5         NM_001402.5            1915           ⋯\n",
       "             Probe_Chr_Orientation Probe_Coordinates                   Cytoband\n",
       "ILMN_1343291 -                     74284362-74284378:74284474-74284506 6q13c   \n",
       "             Definition                                                                     \n",
       "ILMN_1343291 Homo sapiens eukaryotic translation elongation factor 1 alpha 1 (EEF1A1), mRNA.\n",
       "             Ontology_Component                                                                                                                                                                                                                                                                                                                                                                                                                                                                                                                                                                                                                                                                                                                                                                                                                                                                                  \n",
       "ILMN_1343291 All of the contents of a cell excluding the plasma membrane and nucleus, but including other subcellular structures [goid 5737] [evidence IEA]; All of the contents of a cell excluding the plasma membrane and nucleus, but including other subcellular structures [goid 5737] [evidence IEA]; All of the contents of a cell excluding the plasma membrane and nucleus, but including other subcellular structures [goid 5737] [pmid 3512269] [evidence TAS]; That part of the cytoplasm that does not contain membranous or particulate subcellular components [goid 5829] [pmid 10368288] [evidence EXP]; A multisubunit nucleotide exchange complex that binds GTP and aminoacyl-tRNAs, and catalyzes their codon-dependent placement at the A-site of the ribosome. In humans, the complex is composed of four subunits, alpha, beta, delta and gamma [goid 5853] [pmid 2564392] [evidence TAS]\n",
       "             Ontology_Process                                                                                                                                                                                                                                                                                                                                                                                                                               \n",
       "ILMN_1343291 The successive addition of amino acid residues to a nascent polypeptide chain during protein biosynthesis [goid 6414] [evidence IEA]; The successive addition of amino acid residues to a nascent polypeptide chain during protein biosynthesis [goid 6414] [pmid 8812466] [evidence TAS]; The successive addition of amino acid residues to a nascent polypeptide chain during protein biosynthesis [goid 6414] [pmid 15189156] [evidence EXP]\n",
       "             Ontology_Function                                                                                                                                                                                                                                                                                                                                                                                                                                                                                                                                                                                                                                                                                                                                                                                                                                                                                                                                                                                                                                                                                                                                                                                                                                                                                                                                                                                                                                                                                                                                                                                                                                                                                                                                                                                                                                                                                                                                                                                                                                                                                                                                                                                                                                                                                                                                                                                                                                                                                                                                                                                                                                                                                                                                                                       \n",
       "ILMN_1343291 Interacting selectively with a nucleotide, any compound consisting of a nucleoside that is esterified with (ortho)phosphate or an oligophosphate at any hydroxyl group on the ribose or deoxyribose moiety [goid 166] [evidence IEA]; Functions in chain elongation during polypeptide synthesis at the ribosome [goid 3746] [evidence IEA]; Catalysis of the reaction: GTP + H2O = GDP + phosphate [goid 3924] [evidence IEA]; Interacting selectively with GTP, guanosine triphosphate [goid 5525] [evidence IEA]; Interacting selectively with a nucleotide, any compound consisting of a nucleoside that is esterified with (ortho)phosphate or an oligophosphate at any hydroxyl group on the ribose or deoxyribose moiety [goid 166] [evidence IEA]; Functions in chain elongation during polypeptide synthesis at the ribosome [goid 3746] [evidence IEA]; Catalysis of the reaction: GTP + H2O = GDP + phosphate [goid 3924] [evidence IEA]; Interacting selectively with GTP, guanosine triphosphate [goid 5525] [evidence IEA]; Interacting selectively with a nucleotide, any compound consisting of a nucleoside that is esterified with (ortho)phosphate or an oligophosphate at any hydroxyl group on the ribose or deoxyribose moiety [goid 166] [evidence IEA]; Catalysis of the reaction: GTP + H2O = GDP + phosphate [goid 3924] [evidence IEA]; Interacting selectively with GTP, guanosine triphosphate [goid 5525] [evidence IEA]; Interacting selectively with a nucleotide, any compound consisting of a nucleoside that is esterified with (ortho)phosphate or an oligophosphate at any hydroxyl group on the ribose or deoxyribose moiety [goid 166] [evidence IEA]; Catalysis of the reaction: GTP + H2O = GDP + phosphate [goid 3924] [evidence IEA]; Interacting selectively with GTP, guanosine triphosphate [goid 5525] [evidence IEA]; Interacting selectively with a nucleotide, any compound consisting of a nucleoside that is esterified with (ortho)phosphate or an oligophosphate at any hydroxyl group on the ribose or deoxyribose moiety [goid 166] [evidence IEA]; Functions in chain elongation during polypeptide synthesis at the ribosome [goid 3746] [evidence IEA]; Catalysis of the reaction: GTP + H2O = GDP + phosphate [goid 3924] [evidence IEA]; Interacting selectively with any protein or protein complex (a complex of two or more proteins that may include other nonprotein molecules) [goid 5515] [pmid 17373842] [evidence IPI]; Interacting selectively with any protein or protein complex (a complex of two or more proteins that may include other nonprotein molecules) [goid 5515] [pmid 15231747] [evidence IPI]; Interacting selectively with GTP, guanosine triphosphate [goid 5525] [pmid 3512269] [evidence TAS]\n",
       "             Synonyms                                                                                                                    \n",
       "ILMN_1343291 EEF1A; FLJ25721; CCS-3; PTI1; CCS3; MGC102687; MGC16224; EF-Tu; eEF1A-1; EEF-1; MGC131894; HNGC:16303; GRAF-1EF; LENG7; EF1A\n",
       "             Obsolete_Probe_Id                                                              \n",
       "ILMN_1343291 EEF1A; PTI1; MGC16224; eEF1A-1; EF-Tu; EEF-1; HNGC:16303; GRAF-1EF; LENG7; EF1A\n",
       "             GB_ACC     \n",
       "ILMN_1343291 NM_001402.5"
      ]
     },
     "metadata": {},
     "output_type": "display_data"
    }
   ],
   "source": [
    "head(fdata, 1)"
   ]
  },
  {
   "cell_type": "code",
   "execution_count": 27,
   "id": "c187e77f",
   "metadata": {
    "vscode": {
     "languageId": "r"
    }
   },
   "outputs": [
    {
     "data": {
      "text/html": [
       "<style>\n",
       ".list-inline {list-style: none; margin:0; padding: 0}\n",
       ".list-inline>li {display: inline-block}\n",
       ".list-inline>li:not(:last-child)::after {content: \"\\00b7\"; padding: 0 .5ex}\n",
       "</style>\n",
       "<ol class=list-inline><li>'ID'</li><li>'Species'</li><li>'Source'</li><li>'Search_Key'</li><li>'Transcript'</li><li>'ILMN_Gene'</li><li>'Source_Reference_ID'</li><li>'RefSeq_ID'</li><li>'Unigene_ID'</li><li>'Entrez_Gene_ID'</li><li>'GI'</li><li>'Accession'</li><li>'Symbol'</li><li>'Protein_Product'</li><li>'Probe_Id'</li><li>'Array_Address_Id'</li><li>'Probe_Type'</li><li>'Probe_Start'</li><li>'SEQUENCE'</li><li>'Chromosome'</li><li>'Probe_Chr_Orientation'</li><li>'Probe_Coordinates'</li><li>'Cytoband'</li><li>'Definition'</li><li>'Ontology_Component'</li><li>'Ontology_Process'</li><li>'Ontology_Function'</li><li>'Synonyms'</li><li>'Obsolete_Probe_Id'</li><li>'GB_ACC'</li></ol>\n"
      ],
      "text/latex": [
       "\\begin{enumerate*}\n",
       "\\item 'ID'\n",
       "\\item 'Species'\n",
       "\\item 'Source'\n",
       "\\item 'Search\\_Key'\n",
       "\\item 'Transcript'\n",
       "\\item 'ILMN\\_Gene'\n",
       "\\item 'Source\\_Reference\\_ID'\n",
       "\\item 'RefSeq\\_ID'\n",
       "\\item 'Unigene\\_ID'\n",
       "\\item 'Entrez\\_Gene\\_ID'\n",
       "\\item 'GI'\n",
       "\\item 'Accession'\n",
       "\\item 'Symbol'\n",
       "\\item 'Protein\\_Product'\n",
       "\\item 'Probe\\_Id'\n",
       "\\item 'Array\\_Address\\_Id'\n",
       "\\item 'Probe\\_Type'\n",
       "\\item 'Probe\\_Start'\n",
       "\\item 'SEQUENCE'\n",
       "\\item 'Chromosome'\n",
       "\\item 'Probe\\_Chr\\_Orientation'\n",
       "\\item 'Probe\\_Coordinates'\n",
       "\\item 'Cytoband'\n",
       "\\item 'Definition'\n",
       "\\item 'Ontology\\_Component'\n",
       "\\item 'Ontology\\_Process'\n",
       "\\item 'Ontology\\_Function'\n",
       "\\item 'Synonyms'\n",
       "\\item 'Obsolete\\_Probe\\_Id'\n",
       "\\item 'GB\\_ACC'\n",
       "\\end{enumerate*}\n"
      ],
      "text/markdown": [
       "1. 'ID'\n",
       "2. 'Species'\n",
       "3. 'Source'\n",
       "4. 'Search_Key'\n",
       "5. 'Transcript'\n",
       "6. 'ILMN_Gene'\n",
       "7. 'Source_Reference_ID'\n",
       "8. 'RefSeq_ID'\n",
       "9. 'Unigene_ID'\n",
       "10. 'Entrez_Gene_ID'\n",
       "11. 'GI'\n",
       "12. 'Accession'\n",
       "13. 'Symbol'\n",
       "14. 'Protein_Product'\n",
       "15. 'Probe_Id'\n",
       "16. 'Array_Address_Id'\n",
       "17. 'Probe_Type'\n",
       "18. 'Probe_Start'\n",
       "19. 'SEQUENCE'\n",
       "20. 'Chromosome'\n",
       "21. 'Probe_Chr_Orientation'\n",
       "22. 'Probe_Coordinates'\n",
       "23. 'Cytoband'\n",
       "24. 'Definition'\n",
       "25. 'Ontology_Component'\n",
       "26. 'Ontology_Process'\n",
       "27. 'Ontology_Function'\n",
       "28. 'Synonyms'\n",
       "29. 'Obsolete_Probe_Id'\n",
       "30. 'GB_ACC'\n",
       "\n",
       "\n"
      ],
      "text/plain": [
       " [1] \"ID\"                    \"Species\"               \"Source\"               \n",
       " [4] \"Search_Key\"            \"Transcript\"            \"ILMN_Gene\"            \n",
       " [7] \"Source_Reference_ID\"   \"RefSeq_ID\"             \"Unigene_ID\"           \n",
       "[10] \"Entrez_Gene_ID\"        \"GI\"                    \"Accession\"            \n",
       "[13] \"Symbol\"                \"Protein_Product\"       \"Probe_Id\"             \n",
       "[16] \"Array_Address_Id\"      \"Probe_Type\"            \"Probe_Start\"          \n",
       "[19] \"SEQUENCE\"              \"Chromosome\"            \"Probe_Chr_Orientation\"\n",
       "[22] \"Probe_Coordinates\"     \"Cytoband\"              \"Definition\"           \n",
       "[25] \"Ontology_Component\"    \"Ontology_Process\"      \"Ontology_Function\"    \n",
       "[28] \"Synonyms\"              \"Obsolete_Probe_Id\"     \"GB_ACC\"               "
      ]
     },
     "metadata": {},
     "output_type": "display_data"
    }
   ],
   "source": [
    "colnames(fdata)"
   ]
  },
  {
   "cell_type": "code",
   "execution_count": 28,
   "id": "e15dcdbf",
   "metadata": {
    "vscode": {
     "languageId": "r"
    }
   },
   "outputs": [
    {
     "data": {
      "text/html": [
       "<table class=\"dataframe\">\n",
       "<caption>A data.frame: 6 × 2</caption>\n",
       "<thead>\n",
       "\t<tr><th></th><th scope=col>ProbeID</th><th scope=col>GeneSymbol</th></tr>\n",
       "\t<tr><th></th><th scope=col>&lt;chr&gt;</th><th scope=col>&lt;chr&gt;</th></tr>\n",
       "</thead>\n",
       "<tbody>\n",
       "\t<tr><th scope=row>ILMN_1343291</th><td>ILMN_1343291</td><td>EEF1A1   </td></tr>\n",
       "\t<tr><th scope=row>ILMN_1343295</th><td>ILMN_1343295</td><td>GAPDH    </td></tr>\n",
       "\t<tr><th scope=row>ILMN_1651199</th><td>ILMN_1651199</td><td>LOC643334</td></tr>\n",
       "\t<tr><th scope=row>ILMN_1651209</th><td>ILMN_1651209</td><td>SLC35E2  </td></tr>\n",
       "\t<tr><th scope=row>ILMN_1651210</th><td>ILMN_1651210</td><td>DUSP22   </td></tr>\n",
       "\t<tr><th scope=row>ILMN_1651221</th><td>ILMN_1651221</td><td>LOC642820</td></tr>\n",
       "</tbody>\n",
       "</table>\n"
      ],
      "text/latex": [
       "A data.frame: 6 × 2\n",
       "\\begin{tabular}{r|ll}\n",
       "  & ProbeID & GeneSymbol\\\\\n",
       "  & <chr> & <chr>\\\\\n",
       "\\hline\n",
       "\tILMN\\_1343291 & ILMN\\_1343291 & EEF1A1   \\\\\n",
       "\tILMN\\_1343295 & ILMN\\_1343295 & GAPDH    \\\\\n",
       "\tILMN\\_1651199 & ILMN\\_1651199 & LOC643334\\\\\n",
       "\tILMN\\_1651209 & ILMN\\_1651209 & SLC35E2  \\\\\n",
       "\tILMN\\_1651210 & ILMN\\_1651210 & DUSP22   \\\\\n",
       "\tILMN\\_1651221 & ILMN\\_1651221 & LOC642820\\\\\n",
       "\\end{tabular}\n"
      ],
      "text/markdown": [
       "\n",
       "A data.frame: 6 × 2\n",
       "\n",
       "| <!--/--> | ProbeID &lt;chr&gt; | GeneSymbol &lt;chr&gt; |\n",
       "|---|---|---|\n",
       "| ILMN_1343291 | ILMN_1343291 | EEF1A1    |\n",
       "| ILMN_1343295 | ILMN_1343295 | GAPDH     |\n",
       "| ILMN_1651199 | ILMN_1651199 | LOC643334 |\n",
       "| ILMN_1651209 | ILMN_1651209 | SLC35E2   |\n",
       "| ILMN_1651210 | ILMN_1651210 | DUSP22    |\n",
       "| ILMN_1651221 | ILMN_1651221 | LOC642820 |\n",
       "\n"
      ],
      "text/plain": [
       "             ProbeID      GeneSymbol\n",
       "ILMN_1343291 ILMN_1343291 EEF1A1    \n",
       "ILMN_1343295 ILMN_1343295 GAPDH     \n",
       "ILMN_1651199 ILMN_1651199 LOC643334 \n",
       "ILMN_1651209 ILMN_1651209 SLC35E2   \n",
       "ILMN_1651210 ILMN_1651210 DUSP22    \n",
       "ILMN_1651221 ILMN_1651221 LOC642820 "
      ]
     },
     "metadata": {},
     "output_type": "display_data"
    }
   ],
   "source": [
    "probe2gene_map <- fdata[, c(\"ID\", \"Symbol\")]\n",
    "colnames(probe2gene_map) <- c(\"ProbeID\", \"GeneSymbol\")\n",
    "\n",
    "# Remove any rows where the GeneSymbol is missing (NA) or empty\n",
    "probe2gene_map <- probe2gene_map[!is.na(probe2gene_map$GeneSymbol) & probe2gene_map$GeneSymbol != \"\", ]\n",
    "head(probe2gene_map)"
   ]
  },
  {
   "cell_type": "code",
   "execution_count": 29,
   "id": "f4c36b2e",
   "metadata": {
    "vscode": {
     "languageId": "r"
    }
   },
   "outputs": [],
   "source": [
    "# 1. Get the probe IDs that are actually present in your expression matrix\n",
    "# Your expression matrix rownames\n",
    "\n",
    "expression_matrix <- expr\n",
    "\n",
    "expr_probes <- rownames(expression_matrix)\n",
    "\n",
    "# 2. Filter the mapping table to only include probes present in the expression matrix\n",
    "valid_map <- probe2gene_map[probe2gene_map$ProbeID %in% expr_probes, ]\n",
    "\n",
    "# 3. Calculate the average expression for each probe in the matrix\n",
    "probe_means <- rowMeans(expression_matrix, na.rm = TRUE)\n",
    "\n",
    "# 4. Add this average expression to the mapping dataframe\n",
    "# (Match by ProbeID)\n",
    "valid_map$MeanExpression <- probe_means[valid_map$ProbeID]\n",
    "\n",
    "# 5. For each gene, find the probe with the highest average expression\n",
    "\n",
    "probes_to_keep <- valid_map %>%\n",
    "  group_by(GeneSymbol) %>%\n",
    "  arrange(desc(MeanExpression)) %>% # Sort by expression, highest first\n",
    "  dplyr::slice(1) %>%               # Take the first row (highest expr) for each gene\n",
    "  ungroup()\n",
    "\n",
    "# 6. Filter your original expression matrix to only include these \"best representative\" probes\n",
    "expression_matrix_gene_level <- expression_matrix[probes_to_keep$ProbeID, ]\n",
    "\n",
    "# 7. Finally, replace the rownames (probe IDs) with the Gene Symbols\n",
    "rownames(expression_matrix_gene_level) <- probes_to_keep$GeneSymbol\n",
    "\n",
    "# Optional: Remove the temporary 'MeanExpression' column from the map if you want to keep it clean\n",
    "probes_to_keep$MeanExpression <- NULL"
   ]
  },
  {
   "cell_type": "code",
   "execution_count": 30,
   "id": "158d3dec",
   "metadata": {
    "vscode": {
     "languageId": "r"
    }
   },
   "outputs": [
    {
     "data": {
      "text/html": [
       "<table class=\"dataframe\">\n",
       "<caption>A matrix: 20 × 194 of type dbl</caption>\n",
       "<thead>\n",
       "\t<tr><th></th><th scope=col>GSM2843099</th><th scope=col>GSM2843100</th><th scope=col>GSM2843101</th><th scope=col>GSM2843102</th><th scope=col>GSM2843103</th><th scope=col>GSM2843104</th><th scope=col>GSM2843105</th><th scope=col>GSM2843106</th><th scope=col>GSM2843107</th><th scope=col>GSM2843108</th><th scope=col>⋯</th><th scope=col>GSM2843283</th><th scope=col>GSM2843284</th><th scope=col>GSM2843285</th><th scope=col>GSM2843286</th><th scope=col>GSM2843287</th><th scope=col>GSM2843288</th><th scope=col>GSM2843289</th><th scope=col>GSM2843290</th><th scope=col>GSM2843291</th><th scope=col>GSM2843292</th></tr>\n",
       "</thead>\n",
       "<tbody>\n",
       "\t<tr><th scope=row>1-Dec</th><td> 6.346731</td><td> 6.497192</td><td> 6.375568</td><td> 6.442496</td><td> 6.708249</td><td>6.550256</td><td> 6.406398</td><td> 6.647431</td><td> 6.476604</td><td> 6.459665</td><td>⋯</td><td> 6.346629</td><td> 6.467283</td><td> 6.422234</td><td> 6.515479</td><td> 6.702639</td><td> 6.586317</td><td> 6.511672</td><td> 6.597557</td><td> 6.564734</td><td> 6.542214</td></tr>\n",
       "\t<tr><th scope=row>1-Mar</th><td> 7.049863</td><td> 6.646066</td><td> 6.831677</td><td> 6.571903</td><td> 6.787348</td><td>6.391930</td><td> 6.770967</td><td> 7.104668</td><td> 6.718457</td><td> 6.861702</td><td>⋯</td><td> 6.852220</td><td> 6.857612</td><td> 6.781521</td><td> 6.969206</td><td> 6.990639</td><td> 6.849225</td><td> 7.111658</td><td> 7.479136</td><td> 7.441931</td><td> 6.888703</td></tr>\n",
       "\t<tr><th scope=row>10-Mar</th><td> 6.388496</td><td> 6.479169</td><td> 6.476078</td><td> 6.502055</td><td> 6.717118</td><td>6.586716</td><td> 6.586192</td><td> 6.685143</td><td> 6.430921</td><td> 6.639820</td><td>⋯</td><td> 6.392254</td><td> 6.365890</td><td> 6.369265</td><td> 6.522212</td><td> 6.436309</td><td> 6.716925</td><td> 6.440618</td><td> 6.422365</td><td> 6.475643</td><td> 6.563881</td></tr>\n",
       "\t<tr><th scope=row>11-Mar</th><td> 6.337497</td><td> 6.511963</td><td> 6.467740</td><td> 6.506580</td><td> 6.487988</td><td>6.557287</td><td> 6.360386</td><td> 6.506761</td><td> 6.616031</td><td> 6.477945</td><td>⋯</td><td> 6.339700</td><td> 6.641328</td><td> 6.588288</td><td> 6.535084</td><td> 6.455771</td><td> 6.548076</td><td> 6.581844</td><td> 6.555996</td><td> 6.449674</td><td> 6.452908</td></tr>\n",
       "\t<tr><th scope=row>2-Mar</th><td> 8.873265</td><td> 9.244716</td><td> 7.903894</td><td> 9.650984</td><td> 8.052109</td><td>7.654220</td><td> 8.092806</td><td> 8.346829</td><td> 9.923108</td><td> 8.356884</td><td>⋯</td><td> 8.808454</td><td> 7.953702</td><td> 7.140647</td><td> 7.464895</td><td> 7.435755</td><td> 7.891693</td><td> 7.746457</td><td> 8.864715</td><td> 7.991454</td><td> 7.900150</td></tr>\n",
       "\t<tr><th scope=row>3-Mar</th><td> 7.811793</td><td> 8.488025</td><td> 8.790167</td><td> 8.094432</td><td> 9.294317</td><td>9.388382</td><td> 8.864715</td><td> 8.402515</td><td> 7.774851</td><td> 8.488796</td><td>⋯</td><td> 8.440810</td><td> 9.386033</td><td> 8.185411</td><td> 9.205678</td><td> 9.479951</td><td> 8.767132</td><td> 8.721996</td><td> 8.105148</td><td> 8.777152</td><td> 9.404472</td></tr>\n",
       "\t<tr><th scope=row>4-Mar</th><td> 6.531090</td><td> 6.479849</td><td> 6.419195</td><td> 6.529403</td><td> 6.588301</td><td>6.469661</td><td> 6.646628</td><td> 6.443487</td><td> 6.516350</td><td> 6.553150</td><td>⋯</td><td> 6.436135</td><td> 6.550838</td><td> 6.334187</td><td> 6.413506</td><td> 6.678824</td><td> 6.382063</td><td> 6.433924</td><td> 6.365127</td><td> 6.519616</td><td> 6.676666</td></tr>\n",
       "\t<tr><th scope=row>5-Mar</th><td> 7.756915</td><td> 7.818265</td><td> 7.961034</td><td> 7.897534</td><td> 8.332983</td><td>7.847909</td><td> 7.881862</td><td> 7.888485</td><td> 8.022935</td><td> 7.811584</td><td>⋯</td><td> 8.079966</td><td> 7.925815</td><td> 7.802880</td><td> 7.972215</td><td> 7.886475</td><td> 8.125270</td><td> 7.554336</td><td> 7.874202</td><td> 7.874831</td><td> 8.024762</td></tr>\n",
       "\t<tr><th scope=row>6-Mar</th><td> 9.506719</td><td>10.646609</td><td>10.411151</td><td>10.179333</td><td>10.243798</td><td>9.357304</td><td> 9.784679</td><td> 9.586027</td><td> 9.892513</td><td> 9.994921</td><td>⋯</td><td>10.750454</td><td> 9.998761</td><td> 9.494629</td><td>10.078739</td><td>10.193928</td><td>10.951498</td><td> 9.689115</td><td>10.106460</td><td> 9.251079</td><td> 9.716908</td></tr>\n",
       "\t<tr><th scope=row>7-Mar</th><td>10.342044</td><td>10.457642</td><td>10.725027</td><td>10.710924</td><td>10.073583</td><td>9.642545</td><td> 9.788929</td><td>10.040531</td><td>10.833201</td><td>10.320163</td><td>⋯</td><td>10.425449</td><td>10.049160</td><td>10.099394</td><td>10.182909</td><td>10.360297</td><td> 9.894959</td><td>10.152783</td><td>10.704827</td><td>10.306369</td><td>10.378865</td></tr>\n",
       "\t<tr><th scope=row>7A5</th><td> 6.637123</td><td> 6.554242</td><td> 6.635267</td><td> 6.435991</td><td> 6.679260</td><td>6.648213</td><td> 6.477231</td><td> 6.690822</td><td> 6.365141</td><td> 6.458087</td><td>⋯</td><td> 6.472314</td><td> 6.689736</td><td> 6.635315</td><td> 6.627471</td><td> 6.690681</td><td> 7.010070</td><td> 6.369324</td><td> 6.548843</td><td> 6.642364</td><td> 6.515449</td></tr>\n",
       "\t<tr><th scope=row>8-Mar</th><td> 6.718770</td><td> 6.813202</td><td> 6.624086</td><td> 6.759080</td><td> 7.097636</td><td>6.817552</td><td> 6.522314</td><td> 6.695916</td><td> 6.825047</td><td> 6.652414</td><td>⋯</td><td> 6.929801</td><td> 6.862873</td><td> 6.827592</td><td> 7.216935</td><td> 6.805427</td><td> 6.827614</td><td> 6.982667</td><td> 6.713905</td><td> 6.711840</td><td> 6.787845</td></tr>\n",
       "\t<tr><th scope=row>9-Mar</th><td> 6.642201</td><td> 6.539874</td><td> 6.720916</td><td> 6.469905</td><td> 6.590422</td><td>6.587149</td><td> 6.613317</td><td> 6.733545</td><td> 6.591318</td><td> 6.499327</td><td>⋯</td><td> 6.493818</td><td> 6.478072</td><td> 6.676684</td><td> 6.415617</td><td> 6.661852</td><td> 6.732110</td><td> 6.821182</td><td> 6.594024</td><td> 6.606794</td><td> 6.643382</td></tr>\n",
       "\t<tr><th scope=row>A1BG</th><td> 6.614688</td><td> 6.676320</td><td> 6.808223</td><td> 6.755528</td><td> 6.440147</td><td>7.277043</td><td> 6.772756</td><td> 6.589569</td><td> 6.613878</td><td> 6.367091</td><td>⋯</td><td> 6.825027</td><td> 6.703628</td><td> 6.807092</td><td> 6.468021</td><td> 6.472045</td><td> 6.825610</td><td> 6.541906</td><td> 6.557877</td><td> 6.709067</td><td> 6.580572</td></tr>\n",
       "\t<tr><th scope=row>A1CF</th><td> 8.525727</td><td> 9.202371</td><td> 8.212253</td><td> 8.416866</td><td>10.272634</td><td>9.308574</td><td>10.056858</td><td> 8.765972</td><td> 6.611762</td><td>10.133549</td><td>⋯</td><td> 9.453327</td><td> 9.903911</td><td> 9.013652</td><td>10.317529</td><td> 9.916438</td><td> 9.343602</td><td> 9.769146</td><td> 7.149130</td><td> 8.788131</td><td> 9.956589</td></tr>\n",
       "\t<tr><th scope=row>A26C3</th><td> 6.347219</td><td> 6.587393</td><td> 6.543680</td><td> 6.604745</td><td> 6.412956</td><td>6.573148</td><td> 6.720878</td><td> 6.325646</td><td> 6.625815</td><td> 6.711278</td><td>⋯</td><td> 6.513761</td><td> 6.642301</td><td> 6.565167</td><td> 6.449348</td><td> 6.689678</td><td> 6.512894</td><td> 6.441389</td><td> 6.692541</td><td> 6.668877</td><td> 6.535344</td></tr>\n",
       "\t<tr><th scope=row>A2BP1</th><td> 6.475859</td><td> 6.555991</td><td> 6.572896</td><td> 6.603617</td><td> 6.537661</td><td>6.598833</td><td> 6.524551</td><td> 6.552671</td><td> 6.491742</td><td> 6.504228</td><td>⋯</td><td> 6.550317</td><td> 6.547335</td><td> 6.501350</td><td> 6.523380</td><td> 6.583838</td><td> 6.516019</td><td> 6.467703</td><td> 6.467893</td><td> 6.486829</td><td> 6.518700</td></tr>\n",
       "\t<tr><th scope=row>A2LD1</th><td> 7.139539</td><td> 7.140906</td><td> 7.097244</td><td> 6.967433</td><td> 8.022935</td><td>8.068596</td><td> 7.973023</td><td> 7.756565</td><td> 7.185779</td><td> 7.531303</td><td>⋯</td><td> 7.028632</td><td> 7.247731</td><td> 7.465037</td><td> 7.324522</td><td> 7.818472</td><td> 7.348263</td><td> 7.563130</td><td> 7.112439</td><td> 7.373049</td><td> 7.163623</td></tr>\n",
       "\t<tr><th scope=row>A2M</th><td>11.997938</td><td>11.679008</td><td>11.964083</td><td>11.259603</td><td>11.872146</td><td>9.528981</td><td>10.677990</td><td>11.188384</td><td>11.356192</td><td>11.860060</td><td>⋯</td><td>11.648946</td><td>11.616826</td><td>10.520527</td><td>12.087017</td><td>11.803891</td><td>11.482159</td><td>11.674186</td><td>13.142270</td><td>11.662366</td><td>11.787784</td></tr>\n",
       "\t<tr><th scope=row>A2ML1</th><td> 6.408043</td><td> 6.480358</td><td> 6.427871</td><td> 6.493015</td><td> 6.363507</td><td>6.428863</td><td> 6.204335</td><td> 6.414277</td><td> 6.389665</td><td> 6.433517</td><td>⋯</td><td> 6.496291</td><td> 6.405178</td><td> 6.892220</td><td> 6.288209</td><td> 6.405786</td><td> 6.515217</td><td> 6.606610</td><td> 6.425083</td><td> 6.434393</td><td> 6.474758</td></tr>\n",
       "</tbody>\n",
       "</table>\n"
      ],
      "text/latex": [
       "A matrix: 20 × 194 of type dbl\n",
       "\\begin{tabular}{r|lllllllllllllllllllll}\n",
       "  & GSM2843099 & GSM2843100 & GSM2843101 & GSM2843102 & GSM2843103 & GSM2843104 & GSM2843105 & GSM2843106 & GSM2843107 & GSM2843108 & ⋯ & GSM2843283 & GSM2843284 & GSM2843285 & GSM2843286 & GSM2843287 & GSM2843288 & GSM2843289 & GSM2843290 & GSM2843291 & GSM2843292\\\\\n",
       "\\hline\n",
       "\t1-Dec &  6.346731 &  6.497192 &  6.375568 &  6.442496 &  6.708249 & 6.550256 &  6.406398 &  6.647431 &  6.476604 &  6.459665 & ⋯ &  6.346629 &  6.467283 &  6.422234 &  6.515479 &  6.702639 &  6.586317 &  6.511672 &  6.597557 &  6.564734 &  6.542214\\\\\n",
       "\t1-Mar &  7.049863 &  6.646066 &  6.831677 &  6.571903 &  6.787348 & 6.391930 &  6.770967 &  7.104668 &  6.718457 &  6.861702 & ⋯ &  6.852220 &  6.857612 &  6.781521 &  6.969206 &  6.990639 &  6.849225 &  7.111658 &  7.479136 &  7.441931 &  6.888703\\\\\n",
       "\t10-Mar &  6.388496 &  6.479169 &  6.476078 &  6.502055 &  6.717118 & 6.586716 &  6.586192 &  6.685143 &  6.430921 &  6.639820 & ⋯ &  6.392254 &  6.365890 &  6.369265 &  6.522212 &  6.436309 &  6.716925 &  6.440618 &  6.422365 &  6.475643 &  6.563881\\\\\n",
       "\t11-Mar &  6.337497 &  6.511963 &  6.467740 &  6.506580 &  6.487988 & 6.557287 &  6.360386 &  6.506761 &  6.616031 &  6.477945 & ⋯ &  6.339700 &  6.641328 &  6.588288 &  6.535084 &  6.455771 &  6.548076 &  6.581844 &  6.555996 &  6.449674 &  6.452908\\\\\n",
       "\t2-Mar &  8.873265 &  9.244716 &  7.903894 &  9.650984 &  8.052109 & 7.654220 &  8.092806 &  8.346829 &  9.923108 &  8.356884 & ⋯ &  8.808454 &  7.953702 &  7.140647 &  7.464895 &  7.435755 &  7.891693 &  7.746457 &  8.864715 &  7.991454 &  7.900150\\\\\n",
       "\t3-Mar &  7.811793 &  8.488025 &  8.790167 &  8.094432 &  9.294317 & 9.388382 &  8.864715 &  8.402515 &  7.774851 &  8.488796 & ⋯ &  8.440810 &  9.386033 &  8.185411 &  9.205678 &  9.479951 &  8.767132 &  8.721996 &  8.105148 &  8.777152 &  9.404472\\\\\n",
       "\t4-Mar &  6.531090 &  6.479849 &  6.419195 &  6.529403 &  6.588301 & 6.469661 &  6.646628 &  6.443487 &  6.516350 &  6.553150 & ⋯ &  6.436135 &  6.550838 &  6.334187 &  6.413506 &  6.678824 &  6.382063 &  6.433924 &  6.365127 &  6.519616 &  6.676666\\\\\n",
       "\t5-Mar &  7.756915 &  7.818265 &  7.961034 &  7.897534 &  8.332983 & 7.847909 &  7.881862 &  7.888485 &  8.022935 &  7.811584 & ⋯ &  8.079966 &  7.925815 &  7.802880 &  7.972215 &  7.886475 &  8.125270 &  7.554336 &  7.874202 &  7.874831 &  8.024762\\\\\n",
       "\t6-Mar &  9.506719 & 10.646609 & 10.411151 & 10.179333 & 10.243798 & 9.357304 &  9.784679 &  9.586027 &  9.892513 &  9.994921 & ⋯ & 10.750454 &  9.998761 &  9.494629 & 10.078739 & 10.193928 & 10.951498 &  9.689115 & 10.106460 &  9.251079 &  9.716908\\\\\n",
       "\t7-Mar & 10.342044 & 10.457642 & 10.725027 & 10.710924 & 10.073583 & 9.642545 &  9.788929 & 10.040531 & 10.833201 & 10.320163 & ⋯ & 10.425449 & 10.049160 & 10.099394 & 10.182909 & 10.360297 &  9.894959 & 10.152783 & 10.704827 & 10.306369 & 10.378865\\\\\n",
       "\t7A5 &  6.637123 &  6.554242 &  6.635267 &  6.435991 &  6.679260 & 6.648213 &  6.477231 &  6.690822 &  6.365141 &  6.458087 & ⋯ &  6.472314 &  6.689736 &  6.635315 &  6.627471 &  6.690681 &  7.010070 &  6.369324 &  6.548843 &  6.642364 &  6.515449\\\\\n",
       "\t8-Mar &  6.718770 &  6.813202 &  6.624086 &  6.759080 &  7.097636 & 6.817552 &  6.522314 &  6.695916 &  6.825047 &  6.652414 & ⋯ &  6.929801 &  6.862873 &  6.827592 &  7.216935 &  6.805427 &  6.827614 &  6.982667 &  6.713905 &  6.711840 &  6.787845\\\\\n",
       "\t9-Mar &  6.642201 &  6.539874 &  6.720916 &  6.469905 &  6.590422 & 6.587149 &  6.613317 &  6.733545 &  6.591318 &  6.499327 & ⋯ &  6.493818 &  6.478072 &  6.676684 &  6.415617 &  6.661852 &  6.732110 &  6.821182 &  6.594024 &  6.606794 &  6.643382\\\\\n",
       "\tA1BG &  6.614688 &  6.676320 &  6.808223 &  6.755528 &  6.440147 & 7.277043 &  6.772756 &  6.589569 &  6.613878 &  6.367091 & ⋯ &  6.825027 &  6.703628 &  6.807092 &  6.468021 &  6.472045 &  6.825610 &  6.541906 &  6.557877 &  6.709067 &  6.580572\\\\\n",
       "\tA1CF &  8.525727 &  9.202371 &  8.212253 &  8.416866 & 10.272634 & 9.308574 & 10.056858 &  8.765972 &  6.611762 & 10.133549 & ⋯ &  9.453327 &  9.903911 &  9.013652 & 10.317529 &  9.916438 &  9.343602 &  9.769146 &  7.149130 &  8.788131 &  9.956589\\\\\n",
       "\tA26C3 &  6.347219 &  6.587393 &  6.543680 &  6.604745 &  6.412956 & 6.573148 &  6.720878 &  6.325646 &  6.625815 &  6.711278 & ⋯ &  6.513761 &  6.642301 &  6.565167 &  6.449348 &  6.689678 &  6.512894 &  6.441389 &  6.692541 &  6.668877 &  6.535344\\\\\n",
       "\tA2BP1 &  6.475859 &  6.555991 &  6.572896 &  6.603617 &  6.537661 & 6.598833 &  6.524551 &  6.552671 &  6.491742 &  6.504228 & ⋯ &  6.550317 &  6.547335 &  6.501350 &  6.523380 &  6.583838 &  6.516019 &  6.467703 &  6.467893 &  6.486829 &  6.518700\\\\\n",
       "\tA2LD1 &  7.139539 &  7.140906 &  7.097244 &  6.967433 &  8.022935 & 8.068596 &  7.973023 &  7.756565 &  7.185779 &  7.531303 & ⋯ &  7.028632 &  7.247731 &  7.465037 &  7.324522 &  7.818472 &  7.348263 &  7.563130 &  7.112439 &  7.373049 &  7.163623\\\\\n",
       "\tA2M & 11.997938 & 11.679008 & 11.964083 & 11.259603 & 11.872146 & 9.528981 & 10.677990 & 11.188384 & 11.356192 & 11.860060 & ⋯ & 11.648946 & 11.616826 & 10.520527 & 12.087017 & 11.803891 & 11.482159 & 11.674186 & 13.142270 & 11.662366 & 11.787784\\\\\n",
       "\tA2ML1 &  6.408043 &  6.480358 &  6.427871 &  6.493015 &  6.363507 & 6.428863 &  6.204335 &  6.414277 &  6.389665 &  6.433517 & ⋯ &  6.496291 &  6.405178 &  6.892220 &  6.288209 &  6.405786 &  6.515217 &  6.606610 &  6.425083 &  6.434393 &  6.474758\\\\\n",
       "\\end{tabular}\n"
      ],
      "text/markdown": [
       "\n",
       "A matrix: 20 × 194 of type dbl\n",
       "\n",
       "| <!--/--> | GSM2843099 | GSM2843100 | GSM2843101 | GSM2843102 | GSM2843103 | GSM2843104 | GSM2843105 | GSM2843106 | GSM2843107 | GSM2843108 | ⋯ | GSM2843283 | GSM2843284 | GSM2843285 | GSM2843286 | GSM2843287 | GSM2843288 | GSM2843289 | GSM2843290 | GSM2843291 | GSM2843292 |\n",
       "|---|---|---|---|---|---|---|---|---|---|---|---|---|---|---|---|---|---|---|---|---|---|\n",
       "| 1-Dec |  6.346731 |  6.497192 |  6.375568 |  6.442496 |  6.708249 | 6.550256 |  6.406398 |  6.647431 |  6.476604 |  6.459665 | ⋯ |  6.346629 |  6.467283 |  6.422234 |  6.515479 |  6.702639 |  6.586317 |  6.511672 |  6.597557 |  6.564734 |  6.542214 |\n",
       "| 1-Mar |  7.049863 |  6.646066 |  6.831677 |  6.571903 |  6.787348 | 6.391930 |  6.770967 |  7.104668 |  6.718457 |  6.861702 | ⋯ |  6.852220 |  6.857612 |  6.781521 |  6.969206 |  6.990639 |  6.849225 |  7.111658 |  7.479136 |  7.441931 |  6.888703 |\n",
       "| 10-Mar |  6.388496 |  6.479169 |  6.476078 |  6.502055 |  6.717118 | 6.586716 |  6.586192 |  6.685143 |  6.430921 |  6.639820 | ⋯ |  6.392254 |  6.365890 |  6.369265 |  6.522212 |  6.436309 |  6.716925 |  6.440618 |  6.422365 |  6.475643 |  6.563881 |\n",
       "| 11-Mar |  6.337497 |  6.511963 |  6.467740 |  6.506580 |  6.487988 | 6.557287 |  6.360386 |  6.506761 |  6.616031 |  6.477945 | ⋯ |  6.339700 |  6.641328 |  6.588288 |  6.535084 |  6.455771 |  6.548076 |  6.581844 |  6.555996 |  6.449674 |  6.452908 |\n",
       "| 2-Mar |  8.873265 |  9.244716 |  7.903894 |  9.650984 |  8.052109 | 7.654220 |  8.092806 |  8.346829 |  9.923108 |  8.356884 | ⋯ |  8.808454 |  7.953702 |  7.140647 |  7.464895 |  7.435755 |  7.891693 |  7.746457 |  8.864715 |  7.991454 |  7.900150 |\n",
       "| 3-Mar |  7.811793 |  8.488025 |  8.790167 |  8.094432 |  9.294317 | 9.388382 |  8.864715 |  8.402515 |  7.774851 |  8.488796 | ⋯ |  8.440810 |  9.386033 |  8.185411 |  9.205678 |  9.479951 |  8.767132 |  8.721996 |  8.105148 |  8.777152 |  9.404472 |\n",
       "| 4-Mar |  6.531090 |  6.479849 |  6.419195 |  6.529403 |  6.588301 | 6.469661 |  6.646628 |  6.443487 |  6.516350 |  6.553150 | ⋯ |  6.436135 |  6.550838 |  6.334187 |  6.413506 |  6.678824 |  6.382063 |  6.433924 |  6.365127 |  6.519616 |  6.676666 |\n",
       "| 5-Mar |  7.756915 |  7.818265 |  7.961034 |  7.897534 |  8.332983 | 7.847909 |  7.881862 |  7.888485 |  8.022935 |  7.811584 | ⋯ |  8.079966 |  7.925815 |  7.802880 |  7.972215 |  7.886475 |  8.125270 |  7.554336 |  7.874202 |  7.874831 |  8.024762 |\n",
       "| 6-Mar |  9.506719 | 10.646609 | 10.411151 | 10.179333 | 10.243798 | 9.357304 |  9.784679 |  9.586027 |  9.892513 |  9.994921 | ⋯ | 10.750454 |  9.998761 |  9.494629 | 10.078739 | 10.193928 | 10.951498 |  9.689115 | 10.106460 |  9.251079 |  9.716908 |\n",
       "| 7-Mar | 10.342044 | 10.457642 | 10.725027 | 10.710924 | 10.073583 | 9.642545 |  9.788929 | 10.040531 | 10.833201 | 10.320163 | ⋯ | 10.425449 | 10.049160 | 10.099394 | 10.182909 | 10.360297 |  9.894959 | 10.152783 | 10.704827 | 10.306369 | 10.378865 |\n",
       "| 7A5 |  6.637123 |  6.554242 |  6.635267 |  6.435991 |  6.679260 | 6.648213 |  6.477231 |  6.690822 |  6.365141 |  6.458087 | ⋯ |  6.472314 |  6.689736 |  6.635315 |  6.627471 |  6.690681 |  7.010070 |  6.369324 |  6.548843 |  6.642364 |  6.515449 |\n",
       "| 8-Mar |  6.718770 |  6.813202 |  6.624086 |  6.759080 |  7.097636 | 6.817552 |  6.522314 |  6.695916 |  6.825047 |  6.652414 | ⋯ |  6.929801 |  6.862873 |  6.827592 |  7.216935 |  6.805427 |  6.827614 |  6.982667 |  6.713905 |  6.711840 |  6.787845 |\n",
       "| 9-Mar |  6.642201 |  6.539874 |  6.720916 |  6.469905 |  6.590422 | 6.587149 |  6.613317 |  6.733545 |  6.591318 |  6.499327 | ⋯ |  6.493818 |  6.478072 |  6.676684 |  6.415617 |  6.661852 |  6.732110 |  6.821182 |  6.594024 |  6.606794 |  6.643382 |\n",
       "| A1BG |  6.614688 |  6.676320 |  6.808223 |  6.755528 |  6.440147 | 7.277043 |  6.772756 |  6.589569 |  6.613878 |  6.367091 | ⋯ |  6.825027 |  6.703628 |  6.807092 |  6.468021 |  6.472045 |  6.825610 |  6.541906 |  6.557877 |  6.709067 |  6.580572 |\n",
       "| A1CF |  8.525727 |  9.202371 |  8.212253 |  8.416866 | 10.272634 | 9.308574 | 10.056858 |  8.765972 |  6.611762 | 10.133549 | ⋯ |  9.453327 |  9.903911 |  9.013652 | 10.317529 |  9.916438 |  9.343602 |  9.769146 |  7.149130 |  8.788131 |  9.956589 |\n",
       "| A26C3 |  6.347219 |  6.587393 |  6.543680 |  6.604745 |  6.412956 | 6.573148 |  6.720878 |  6.325646 |  6.625815 |  6.711278 | ⋯ |  6.513761 |  6.642301 |  6.565167 |  6.449348 |  6.689678 |  6.512894 |  6.441389 |  6.692541 |  6.668877 |  6.535344 |\n",
       "| A2BP1 |  6.475859 |  6.555991 |  6.572896 |  6.603617 |  6.537661 | 6.598833 |  6.524551 |  6.552671 |  6.491742 |  6.504228 | ⋯ |  6.550317 |  6.547335 |  6.501350 |  6.523380 |  6.583838 |  6.516019 |  6.467703 |  6.467893 |  6.486829 |  6.518700 |\n",
       "| A2LD1 |  7.139539 |  7.140906 |  7.097244 |  6.967433 |  8.022935 | 8.068596 |  7.973023 |  7.756565 |  7.185779 |  7.531303 | ⋯ |  7.028632 |  7.247731 |  7.465037 |  7.324522 |  7.818472 |  7.348263 |  7.563130 |  7.112439 |  7.373049 |  7.163623 |\n",
       "| A2M | 11.997938 | 11.679008 | 11.964083 | 11.259603 | 11.872146 | 9.528981 | 10.677990 | 11.188384 | 11.356192 | 11.860060 | ⋯ | 11.648946 | 11.616826 | 10.520527 | 12.087017 | 11.803891 | 11.482159 | 11.674186 | 13.142270 | 11.662366 | 11.787784 |\n",
       "| A2ML1 |  6.408043 |  6.480358 |  6.427871 |  6.493015 |  6.363507 | 6.428863 |  6.204335 |  6.414277 |  6.389665 |  6.433517 | ⋯ |  6.496291 |  6.405178 |  6.892220 |  6.288209 |  6.405786 |  6.515217 |  6.606610 |  6.425083 |  6.434393 |  6.474758 |\n",
       "\n"
      ],
      "text/plain": [
       "       GSM2843099 GSM2843100 GSM2843101 GSM2843102 GSM2843103 GSM2843104\n",
       "1-Dec   6.346731   6.497192   6.375568   6.442496   6.708249  6.550256  \n",
       "1-Mar   7.049863   6.646066   6.831677   6.571903   6.787348  6.391930  \n",
       "10-Mar  6.388496   6.479169   6.476078   6.502055   6.717118  6.586716  \n",
       "11-Mar  6.337497   6.511963   6.467740   6.506580   6.487988  6.557287  \n",
       "2-Mar   8.873265   9.244716   7.903894   9.650984   8.052109  7.654220  \n",
       "3-Mar   7.811793   8.488025   8.790167   8.094432   9.294317  9.388382  \n",
       "4-Mar   6.531090   6.479849   6.419195   6.529403   6.588301  6.469661  \n",
       "5-Mar   7.756915   7.818265   7.961034   7.897534   8.332983  7.847909  \n",
       "6-Mar   9.506719  10.646609  10.411151  10.179333  10.243798  9.357304  \n",
       "7-Mar  10.342044  10.457642  10.725027  10.710924  10.073583  9.642545  \n",
       "7A5     6.637123   6.554242   6.635267   6.435991   6.679260  6.648213  \n",
       "8-Mar   6.718770   6.813202   6.624086   6.759080   7.097636  6.817552  \n",
       "9-Mar   6.642201   6.539874   6.720916   6.469905   6.590422  6.587149  \n",
       "A1BG    6.614688   6.676320   6.808223   6.755528   6.440147  7.277043  \n",
       "A1CF    8.525727   9.202371   8.212253   8.416866  10.272634  9.308574  \n",
       "A26C3   6.347219   6.587393   6.543680   6.604745   6.412956  6.573148  \n",
       "A2BP1   6.475859   6.555991   6.572896   6.603617   6.537661  6.598833  \n",
       "A2LD1   7.139539   7.140906   7.097244   6.967433   8.022935  8.068596  \n",
       "A2M    11.997938  11.679008  11.964083  11.259603  11.872146  9.528981  \n",
       "A2ML1   6.408043   6.480358   6.427871   6.493015   6.363507  6.428863  \n",
       "       GSM2843105 GSM2843106 GSM2843107 GSM2843108 ⋯ GSM2843283 GSM2843284\n",
       "1-Dec   6.406398   6.647431   6.476604   6.459665  ⋯  6.346629   6.467283 \n",
       "1-Mar   6.770967   7.104668   6.718457   6.861702  ⋯  6.852220   6.857612 \n",
       "10-Mar  6.586192   6.685143   6.430921   6.639820  ⋯  6.392254   6.365890 \n",
       "11-Mar  6.360386   6.506761   6.616031   6.477945  ⋯  6.339700   6.641328 \n",
       "2-Mar   8.092806   8.346829   9.923108   8.356884  ⋯  8.808454   7.953702 \n",
       "3-Mar   8.864715   8.402515   7.774851   8.488796  ⋯  8.440810   9.386033 \n",
       "4-Mar   6.646628   6.443487   6.516350   6.553150  ⋯  6.436135   6.550838 \n",
       "5-Mar   7.881862   7.888485   8.022935   7.811584  ⋯  8.079966   7.925815 \n",
       "6-Mar   9.784679   9.586027   9.892513   9.994921  ⋯ 10.750454   9.998761 \n",
       "7-Mar   9.788929  10.040531  10.833201  10.320163  ⋯ 10.425449  10.049160 \n",
       "7A5     6.477231   6.690822   6.365141   6.458087  ⋯  6.472314   6.689736 \n",
       "8-Mar   6.522314   6.695916   6.825047   6.652414  ⋯  6.929801   6.862873 \n",
       "9-Mar   6.613317   6.733545   6.591318   6.499327  ⋯  6.493818   6.478072 \n",
       "A1BG    6.772756   6.589569   6.613878   6.367091  ⋯  6.825027   6.703628 \n",
       "A1CF   10.056858   8.765972   6.611762  10.133549  ⋯  9.453327   9.903911 \n",
       "A26C3   6.720878   6.325646   6.625815   6.711278  ⋯  6.513761   6.642301 \n",
       "A2BP1   6.524551   6.552671   6.491742   6.504228  ⋯  6.550317   6.547335 \n",
       "A2LD1   7.973023   7.756565   7.185779   7.531303  ⋯  7.028632   7.247731 \n",
       "A2M    10.677990  11.188384  11.356192  11.860060  ⋯ 11.648946  11.616826 \n",
       "A2ML1   6.204335   6.414277   6.389665   6.433517  ⋯  6.496291   6.405178 \n",
       "       GSM2843285 GSM2843286 GSM2843287 GSM2843288 GSM2843289 GSM2843290\n",
       "1-Dec   6.422234   6.515479   6.702639   6.586317   6.511672   6.597557 \n",
       "1-Mar   6.781521   6.969206   6.990639   6.849225   7.111658   7.479136 \n",
       "10-Mar  6.369265   6.522212   6.436309   6.716925   6.440618   6.422365 \n",
       "11-Mar  6.588288   6.535084   6.455771   6.548076   6.581844   6.555996 \n",
       "2-Mar   7.140647   7.464895   7.435755   7.891693   7.746457   8.864715 \n",
       "3-Mar   8.185411   9.205678   9.479951   8.767132   8.721996   8.105148 \n",
       "4-Mar   6.334187   6.413506   6.678824   6.382063   6.433924   6.365127 \n",
       "5-Mar   7.802880   7.972215   7.886475   8.125270   7.554336   7.874202 \n",
       "6-Mar   9.494629  10.078739  10.193928  10.951498   9.689115  10.106460 \n",
       "7-Mar  10.099394  10.182909  10.360297   9.894959  10.152783  10.704827 \n",
       "7A5     6.635315   6.627471   6.690681   7.010070   6.369324   6.548843 \n",
       "8-Mar   6.827592   7.216935   6.805427   6.827614   6.982667   6.713905 \n",
       "9-Mar   6.676684   6.415617   6.661852   6.732110   6.821182   6.594024 \n",
       "A1BG    6.807092   6.468021   6.472045   6.825610   6.541906   6.557877 \n",
       "A1CF    9.013652  10.317529   9.916438   9.343602   9.769146   7.149130 \n",
       "A26C3   6.565167   6.449348   6.689678   6.512894   6.441389   6.692541 \n",
       "A2BP1   6.501350   6.523380   6.583838   6.516019   6.467703   6.467893 \n",
       "A2LD1   7.465037   7.324522   7.818472   7.348263   7.563130   7.112439 \n",
       "A2M    10.520527  12.087017  11.803891  11.482159  11.674186  13.142270 \n",
       "A2ML1   6.892220   6.288209   6.405786   6.515217   6.606610   6.425083 \n",
       "       GSM2843291 GSM2843292\n",
       "1-Dec   6.564734   6.542214 \n",
       "1-Mar   7.441931   6.888703 \n",
       "10-Mar  6.475643   6.563881 \n",
       "11-Mar  6.449674   6.452908 \n",
       "2-Mar   7.991454   7.900150 \n",
       "3-Mar   8.777152   9.404472 \n",
       "4-Mar   6.519616   6.676666 \n",
       "5-Mar   7.874831   8.024762 \n",
       "6-Mar   9.251079   9.716908 \n",
       "7-Mar  10.306369  10.378865 \n",
       "7A5     6.642364   6.515449 \n",
       "8-Mar   6.711840   6.787845 \n",
       "9-Mar   6.606794   6.643382 \n",
       "A1BG    6.709067   6.580572 \n",
       "A1CF    8.788131   9.956589 \n",
       "A26C3   6.668877   6.535344 \n",
       "A2BP1   6.486829   6.518700 \n",
       "A2LD1   7.373049   7.163623 \n",
       "A2M    11.662366  11.787784 \n",
       "A2ML1   6.434393   6.474758 "
      ]
     },
     "metadata": {},
     "output_type": "display_data"
    }
   ],
   "source": [
    "head(expression_matrix_gene_level, 20)"
   ]
  },
  {
   "cell_type": "code",
   "execution_count": 31,
   "id": "a39ebf02",
   "metadata": {
    "vscode": {
     "languageId": "r"
    }
   },
   "outputs": [],
   "source": [
    "expr <- expression_matrix_gene_level"
   ]
  },
  {
   "cell_type": "code",
   "execution_count": 32,
   "id": "0d8c9bfc",
   "metadata": {
    "vscode": {
     "languageId": "r"
    }
   },
   "outputs": [
    {
     "data": {
      "text/plain": [
       "\n",
       "mucosa  tumor \n",
       "   117     77 "
      ]
     },
     "metadata": {},
     "output_type": "display_data"
    }
   ],
   "source": [
    "table(pheno$'tissue:ch1')"
   ]
  },
  {
   "cell_type": "code",
   "execution_count": 33,
   "id": "13faf3b4",
   "metadata": {
    "vscode": {
     "languageId": "r"
    }
   },
   "outputs": [],
   "source": [
    "group <- factor(pheno$'tissue:ch1')"
   ]
  },
  {
   "cell_type": "code",
   "execution_count": 34,
   "id": "5f411421",
   "metadata": {
    "vscode": {
     "languageId": "r"
    }
   },
   "outputs": [],
   "source": [
    "# differential expression analysis with limma\n",
    "design <- model.matrix(~0 + group)\n",
    "colnames(design) <- levels(group)\n",
    "\n",
    "fit <- lmFit(expr, design)\n",
    "contrast.matrix <- makeContrasts(TumorVsMucosa = tumor - mucosa, levels=design)\n",
    "fit2 <- contrasts.fit(fit, contrast.matrix)\n",
    "fit2 <- eBayes(fit2)"
   ]
  },
  {
   "cell_type": "code",
   "execution_count": 35,
   "id": "e9e9c29c",
   "metadata": {
    "vscode": {
     "languageId": "r"
    }
   },
   "outputs": [],
   "source": [
    "# Results table\n",
    "deg_results <- topTable(fit2, coef=\"TumorVsMucosa\", number=Inf, adjust=\"fdr\")\n",
    "\n",
    "# Add probe annotation\n",
    "deg_results <- cbind(fdata[rownames(deg_results), ], deg_results)\n",
    "\n",
    "# Apply thresholds (like the paper)\n",
    "deg_filtered <- subset(deg_results, adj.P.Val < 0.05 & abs(logFC) >= 0.5)"
   ]
  },
  {
   "cell_type": "code",
   "execution_count": 36,
   "id": "3cbdbd90",
   "metadata": {
    "vscode": {
     "languageId": "r"
    }
   },
   "outputs": [
    {
     "name": "stdout",
     "output_type": "stream",
     "text": [
      "Total DEGs (with symbols): 2694 \n"
     ]
    }
   ],
   "source": [
    "# Quick summary\n",
    "cat(\"Total DEGs (with symbols):\", nrow(deg_filtered), \"\\n\")"
   ]
  },
  {
   "cell_type": "code",
   "execution_count": 37,
   "id": "a7b1ac16",
   "metadata": {
    "vscode": {
     "languageId": "r"
    }
   },
   "outputs": [],
   "source": [
    "# Save all results\n",
    "write.csv(deg_results,\n",
    "          file = \"GSE106582_DEG_results_all.csv\",\n",
    "          row.names = TRUE)\n",
    "\n",
    "# Save filtered DEGs\n",
    "write.csv(deg_filtered,\n",
    "          file = \"GSE106582_DEG_results_filtered.csv\",\n",
    "          row.names = TRUE)"
   ]
  }
 ],
 "metadata": {
  "kernelspec": {
   "display_name": "R",
   "language": "R",
   "name": "ir"
  },
  "language_info": {
   "codemirror_mode": "r",
   "file_extension": ".r",
   "mimetype": "text/x-r-source",
   "name": "R",
   "pygments_lexer": "r",
   "version": "4.4.3"
  }
 },
 "nbformat": 4,
 "nbformat_minor": 5
}
